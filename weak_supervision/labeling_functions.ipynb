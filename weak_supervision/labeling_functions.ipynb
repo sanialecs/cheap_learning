{
 "cells": [
  {
   "cell_type": "markdown",
   "id": "b01790a1",
   "metadata": {},
   "source": [
    "# Importation"
   ]
  },
  {
   "cell_type": "code",
   "execution_count": 2,
   "id": "3fe8b65b",
   "metadata": {},
   "outputs": [],
   "source": [
    "import pandas as pd\n",
    "import datetime as dt\n",
    "import numpy as np\n",
    "import re\n",
    "from nltk.corpus import wordnet\n",
    "from snorkel.labeling import LabelingFunction, labeling_function\n",
    "from snorkel.preprocess import preprocessor\n",
    "from textblob import TextBlob"
   ]
  },
  {
   "cell_type": "markdown",
   "id": "f844dd32",
   "metadata": {},
   "source": [
    "# Global Variables"
   ]
  },
  {
   "cell_type": "code",
   "execution_count": null,
   "id": "465c550d",
   "metadata": {},
   "outputs": [],
   "source": [
    "ABUSE = 1\n",
    "NOT_ABUSE = 0\n",
    "ABSTAIN = -1\n",
    "\n",
    "lfs = dict()"
   ]
  },
  {
   "cell_type": "markdown",
   "id": "93568ee8",
   "metadata": {},
   "source": [
    "# NLP Labeling Functions"
   ]
  },
  {
   "cell_type": "code",
   "execution_count": null,
   "id": "60693d32",
   "metadata": {},
   "outputs": [],
   "source": [
    "### Preprocessors\n",
    "@preprocessor(memoize=True)\n",
    "def textblob_polarity(x):\n",
    "    scores = TextBlob(x.text)\n",
    "    x.polarity = scores.polarity\n",
    "    return x\n",
    "\n",
    "@preprocessor(memoize=True)\n",
    "def textblob_subjectivity(x):\n",
    "    scores = TextBlob(x.text)\n",
    "    x.subjectivity = scores.subjectivity\n",
    "    return x\n",
    "\n",
    "### NLP labeling functions\n",
    "def lfg_polarity(operator: str,\n",
    "                bound: float,                  \n",
    "                CONSTANT: int,\n",
    "                name: str = 'polarityLabelingFunction',\n",
    "                ABSTAIN: int = -1\n",
    "                ):\n",
    "    def lf_polarity(x):\n",
    "        condition = eval(f\"{x.polarity}\"+operator+f\"{bound}\")\n",
    "        return CONSTANT if condition else ABSTAIN\n",
    "    return LabelingFunction(name=name, f=lf_polarity, pre=[textblob_polarity])\n",
    "\n",
    "def lfg_subjectivity(operator: str,\n",
    "                    bound: float,\n",
    "                    CONSTANT: int,\n",
    "                    name: str = 'subjectivityLabelingFunction',\n",
    "                    ABSTAIN: int = -1,\n",
    "                    ):\n",
    "    def lf_subjectivity(x):\n",
    "        condition = eval(f\"{x.subjectivity}\"+operator+f\"{bound}\")\n",
    "        return CONSTANT if condition else ABSTAIN\n",
    "    return LabelingFunction(name=name, f=lf_subjectivity, pre=[textblob_subjectivity])"
   ]
  },
  {
   "cell_type": "markdown",
   "id": "0461b136",
   "metadata": {},
   "source": [
    "# Heuristic Labeling Functions"
   ]
  },
  {
   "cell_type": "code",
   "execution_count": null,
   "id": "d5134abf",
   "metadata": {},
   "outputs": [],
   "source": [
    "### length labeling function\n",
    "def lfg_lengthtext(min_characters: int,\n",
    "                            operator: str,\n",
    "                            CONSTANT: int,\n",
    "                            name: str = 'lengthtextLabelingFunction',\n",
    "                            ABSTAIN: int = -1):\n",
    "    def lf_lengthtext(x):\n",
    "        condition = eval(\"len(x.text)\"+operator+f\"{min_characters}\")\n",
    "        return CONSTANT if condition else ABSTAIN\n",
    "\n",
    "    return LabelingFunction(name=name, f=lf_lengthtext)\n",
    "\n",
    "### Keyword labeling function\n",
    "def lfg_keywords(keywords: list, \n",
    "                          CONSTANT: int, \n",
    "                          name: str = 'keywordsLabelingFunction',\n",
    "                          ABSTAIN: int = -1):\n",
    "    @labeling_function()\n",
    "    def func(x):\n",
    "        return CONSTANT if any(word in x.text.lower() for word in keywords) else ABSTAIN\n",
    "    func.name = name\n",
    "    return func\n",
    "\n",
    "### Regex labeling function\n",
    "def lfg_regex(keywords, \n",
    "               CONSTANT: int, \n",
    "               name: str = 'regexLabelingFunction',\n",
    "               specific_keywords = ['act', 'sound', 'edit', 'direct', 'film', 'picture'],\n",
    "               ABSTAIN: int = -1):\n",
    "    \n",
    "    @labeling_function()\n",
    "    def func(x):\n",
    "        for word in specific_keywords:\n",
    "            for keyword in keywords:\n",
    "                if re.search(f\"({keyword}|{word})\"+\"\\W+(?:\\w+\\W+){0,2}?\"+f\"({keyword}|{word})\", x.text.lower(), flags=re.I):\n",
    "                    return CONSTANT \n",
    "        return ABSTAIN\n",
    "    func.name = name\n",
    "    return func"
   ]
  },
  {
   "cell_type": "markdown",
   "id": "2f550a1e",
   "metadata": {},
   "source": [
    "# Annotators Labeling Functions"
   ]
  },
  {
   "cell_type": "code",
   "execution_count": null,
   "id": "c43c0d8b",
   "metadata": {},
   "outputs": [],
   "source": [
    "def worker_lf(x, worker_dict):\n",
    "    return worker_dict.get(x.rev_id, ABSTAIN)\n",
    "\n",
    "def lfg_worker(worker_id, worker_dicts):\n",
    "    worker_dict = worker_dicts[worker_id]\n",
    "    name = f\"worker_{worker_id}\"\n",
    "    return LabelingFunction(name, f=worker_lf, resources={\"worker_dict\": worker_dict})"
   ]
  },
  {
   "cell_type": "markdown",
   "id": "873f4b6d",
   "metadata": {},
   "source": [
    "# Helper Functions"
   ]
  },
  {
   "cell_type": "code",
   "execution_count": null,
   "id": "c6597fc8",
   "metadata": {},
   "outputs": [],
   "source": [
    "def load_annotations(path: str) -> pd.DataFrame:\n",
    "    annotations = pd.read_table(path)\n",
    "    return annotations\n",
    "\n",
    "def load_keywords(path: str) -> pd.DataFrame:\n",
    "    keywords = pd.read_csv(path).keyword.values\n",
    "    return keywords\n",
    "\n",
    "def get_worker_dicts(annotations: pd.DataFrame) -> dict:\n",
    "\n",
    "    labels_by_annotator = annotations.groupby(\"worker_id\")\n",
    "    worker_dicts = {}\n",
    "    for worker_id in labels_by_annotator.groups:\n",
    "        worker_df = labels_by_annotator.get_group(worker_id)[[\"rev_id\", \"attack\"]]\n",
    "        worker_dicts[worker_id] = dict(zip(worker_df.rev_id, worker_df.attack))\n",
    "    return worker_dicts"
   ]
  },
  {
   "cell_type": "markdown",
   "id": "c4edb33d",
   "metadata": {},
   "source": [
    "# Get Labeling Functions"
   ]
  },
  {
   "cell_type": "code",
   "execution_count": null,
   "id": "69d06b05",
   "metadata": {},
   "outputs": [],
   "source": [
    "def get_lfs(path_keywords: str, path_annotations: str) -> dict:\n",
    "    lfs = dict()\n",
    "\n",
    "    lfs['polarity_negative'] = lfg_polarity(-0.25, '<', ABUSE, name='polarity_negative')\n",
    "    lfs['polarity_positive'] = lfg_polarity(0.1, '>=', NOT_ABUSE, name='polarity_positive')\n",
    "\n",
    "    lfs['length_text'] = lfg_lengthtext(9500, \">\", ABUSE)\n",
    "\n",
    "    badwords = load_keywords(path_keywords)\n",
    "    lfs['badwords'] = lfg_keywords(badwords, ABUSE)\n",
    "\n",
    "    annotations = load_annotations(path_annotations)\n",
    "    worker_dicts = get_worker_dicts(annotations)\n",
    "    for worker_id in worker_dicts:\n",
    "        name = f\"worker_{worker_id}\"\n",
    "        lfs[name] = lfg_worker(worker_id, worker_dicts)\n",
    "\n",
    "    return lfs"
   ]
  },
  {
   "cell_type": "markdown",
   "id": "cab26739",
   "metadata": {},
   "source": [
    "# WordNet Expansion"
   ]
  },
  {
   "cell_type": "code",
   "execution_count": null,
   "id": "587a6a9d",
   "metadata": {},
   "outputs": [],
   "source": [
    "badwords = []\n",
    "for word in ['bad', 'worst', 'horrible', 'ridiculous', 'appaling', 'long', 'boring', \n",
    "             'predictable', 'tiring', 'non-credible']:\n",
    "    for syn in wordnet.synsets(word):\n",
    "        for i in syn.lemmas():\n",
    "             badwords.append(i.name())\n",
    "                \n",
    "badwords = [s.lower().replace('_', ' ') for s in np.unique(np.array(badwords))]\n",
    "\n",
    "goodwords = []\n",
    "for word in ['good', 'best', 'marvelous', 'incredible', 'mesmerizing', 'entertaining', \n",
    "             'unforgettable', 'beautiful', 'cute', 'deep']:\n",
    "    for syn in wordnet.synsets(word):\n",
    "        for i in syn.lemmas():\n",
    "             goodwords.append(i.name())\n",
    "                \n",
    "goodwords = [s.lower().replace('_', ' ') for s in np.unique(np.array(goodwords))]"
   ]
  },
  {
   "cell_type": "markdown",
   "id": "400e3fd0",
   "metadata": {},
   "source": [
    "# IMDB Specific"
   ]
  },
  {
   "cell_type": "code",
   "execution_count": null,
   "id": "4233a150",
   "metadata": {},
   "outputs": [],
   "source": [
    "# for binary_movie sentiment, labels are inverted\n",
    "def get_lfs_imdb(treshold_abuse: float = -0.05, treshold_notabuse: float = 0., treshold_subjectivity: float = 0.3) -> dict:\n",
    "    lfs = dict()\n",
    "\n",
    "    lfs['polarity_negative'] = lfg_polarity('<', treshold_abuse, NOT_ABUSE, name='polarity_negative')\n",
    "    lfs['polarity_positive'] = lfg_polarity('>=', treshold_notabuse, ABUSE, name='polarity_positive')\n",
    "\n",
    "    lfs['subjectivity'] = lfg_subjectivity('<', treshold_subjectivity, ABUSE, name='subjectivity')\n",
    "\n",
    "    lfs['badwords'] = lfg_keywords(badwords, NOT_ABUSE, name='badwords')\n",
    "    lfs['goodwords'] = lfg_keywords(goodwords, ABUSE, name='goodwords')\n",
    "\n",
    "    lfs['good_acting'] = lfg_regex(goodwords, NOT_ABUSE, name='good_acting')\n",
    "    lfs['bad_acting'] = lfg_regex(badwords, ABUSE, name='bad_acting')\n",
    "\n",
    "    return lfs"
   ]
  }
 ],
 "metadata": {
  "kernelspec": {
   "display_name": ".venv",
   "language": "python",
   "name": "python3"
  },
  "language_info": {
   "codemirror_mode": {
    "name": "ipython",
    "version": 3
   },
   "file_extension": ".py",
   "mimetype": "text/x-python",
   "name": "python",
   "nbconvert_exporter": "python",
   "pygments_lexer": "ipython3",
   "version": "3.12.6"
  }
 },
 "nbformat": 4,
 "nbformat_minor": 5
}

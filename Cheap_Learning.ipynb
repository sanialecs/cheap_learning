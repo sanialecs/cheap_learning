{
  "cells": [
    {
      "cell_type": "markdown",
      "metadata": {
        "id": "YqXHB8N-boJc"
      },
      "source": [
        "<p align=\"center\"><b><font size=\"6\"> Macine Learning in practice</b></p>"
      ]
    },
    {
      "cell_type": "code",
      "execution_count": 53,
      "metadata": {},
      "outputs": [
        {
          "name": "stderr",
          "output_type": "stream",
          "text": [
            "huggingface/tokenizers: The current process just got forked, after parallelism has already been used. Disabling parallelism to avoid deadlocks...\n",
            "To disable this warning, you can either:\n",
            "\t- Avoid using `tokenizers` before the fork if possible\n",
            "\t- Explicitly set the environment variable TOKENIZERS_PARALLELISM=(true | false)\n"
          ]
        },
        {
          "name": "stdout",
          "output_type": "stream",
          "text": [
            "Requirement already satisfied: scikit-learn in ./.venv/lib/python3.11/site-packages (1.6.1)\n",
            "Requirement already satisfied: numpy>=1.19.5 in ./.venv/lib/python3.11/site-packages (from scikit-learn) (2.1.3)\n",
            "Requirement already satisfied: scipy>=1.6.0 in ./.venv/lib/python3.11/site-packages (from scikit-learn) (1.15.2)\n",
            "Requirement already satisfied: joblib>=1.2.0 in ./.venv/lib/python3.11/site-packages (from scikit-learn) (1.5.0)\n",
            "Requirement already satisfied: threadpoolctl>=3.1.0 in ./.venv/lib/python3.11/site-packages (from scikit-learn) (3.6.0)\n"
          ]
        },
        {
          "name": "stderr",
          "output_type": "stream",
          "text": [
            "huggingface/tokenizers: The current process just got forked, after parallelism has already been used. Disabling parallelism to avoid deadlocks...\n",
            "To disable this warning, you can either:\n",
            "\t- Avoid using `tokenizers` before the fork if possible\n",
            "\t- Explicitly set the environment variable TOKENIZERS_PARALLELISM=(true | false)\n"
          ]
        },
        {
          "name": "stdout",
          "output_type": "stream",
          "text": [
            "Requirement already satisfied: pandas in ./.venv/lib/python3.11/site-packages (2.2.3)\n",
            "Requirement already satisfied: numpy in ./.venv/lib/python3.11/site-packages (2.1.3)\n",
            "Requirement already satisfied: matplotlib in ./.venv/lib/python3.11/site-packages (3.10.1)\n",
            "Requirement already satisfied: transformers in ./.venv/lib/python3.11/site-packages (4.51.3)\n",
            "Requirement already satisfied: torch in ./.venv/lib/python3.11/site-packages (2.7.0)\n",
            "Requirement already satisfied: datasets in ./.venv/lib/python3.11/site-packages (3.5.1)\n",
            "Requirement already satisfied: imblearn in ./.venv/lib/python3.11/site-packages (0.0)\n",
            "Collecting tensorflow\n",
            "  Using cached tensorflow-2.19.0-cp311-cp311-macosx_12_0_arm64.whl.metadata (4.0 kB)\n",
            "Requirement already satisfied: python-dateutil>=2.8.2 in ./.venv/lib/python3.11/site-packages (from pandas) (2.9.0.post0)\n",
            "Requirement already satisfied: pytz>=2020.1 in ./.venv/lib/python3.11/site-packages (from pandas) (2025.2)\n",
            "Requirement already satisfied: tzdata>=2022.7 in ./.venv/lib/python3.11/site-packages (from pandas) (2025.2)\n",
            "Requirement already satisfied: contourpy>=1.0.1 in ./.venv/lib/python3.11/site-packages (from matplotlib) (1.3.2)\n",
            "Requirement already satisfied: cycler>=0.10 in ./.venv/lib/python3.11/site-packages (from matplotlib) (0.12.1)\n",
            "Requirement already satisfied: fonttools>=4.22.0 in ./.venv/lib/python3.11/site-packages (from matplotlib) (4.57.0)\n",
            "Requirement already satisfied: kiwisolver>=1.3.1 in ./.venv/lib/python3.11/site-packages (from matplotlib) (1.4.8)\n",
            "Requirement already satisfied: packaging>=20.0 in ./.venv/lib/python3.11/site-packages (from matplotlib) (25.0)\n",
            "Requirement already satisfied: pillow>=8 in ./.venv/lib/python3.11/site-packages (from matplotlib) (11.2.1)\n",
            "Requirement already satisfied: pyparsing>=2.3.1 in ./.venv/lib/python3.11/site-packages (from matplotlib) (3.2.3)\n",
            "Requirement already satisfied: filelock in ./.venv/lib/python3.11/site-packages (from transformers) (3.18.0)\n",
            "Requirement already satisfied: huggingface-hub<1.0,>=0.30.0 in ./.venv/lib/python3.11/site-packages (from transformers) (0.30.2)\n",
            "Requirement already satisfied: pyyaml>=5.1 in ./.venv/lib/python3.11/site-packages (from transformers) (6.0.2)\n",
            "Requirement already satisfied: regex!=2019.12.17 in ./.venv/lib/python3.11/site-packages (from transformers) (2024.11.6)\n",
            "Requirement already satisfied: requests in ./.venv/lib/python3.11/site-packages (from transformers) (2.32.3)\n",
            "Requirement already satisfied: tokenizers<0.22,>=0.21 in ./.venv/lib/python3.11/site-packages (from transformers) (0.21.1)\n",
            "Requirement already satisfied: safetensors>=0.4.3 in ./.venv/lib/python3.11/site-packages (from transformers) (0.5.3)\n",
            "Requirement already satisfied: tqdm>=4.27 in ./.venv/lib/python3.11/site-packages (from transformers) (4.67.1)\n",
            "Requirement already satisfied: fsspec>=2023.5.0 in ./.venv/lib/python3.11/site-packages (from huggingface-hub<1.0,>=0.30.0->transformers) (2025.3.0)\n",
            "Requirement already satisfied: typing-extensions>=3.7.4.3 in ./.venv/lib/python3.11/site-packages (from huggingface-hub<1.0,>=0.30.0->transformers) (4.13.2)\n",
            "Requirement already satisfied: sympy>=1.13.3 in ./.venv/lib/python3.11/site-packages (from torch) (1.14.0)\n",
            "Requirement already satisfied: networkx in ./.venv/lib/python3.11/site-packages (from torch) (3.4.2)\n",
            "Requirement already satisfied: jinja2 in ./.venv/lib/python3.11/site-packages (from torch) (3.1.6)\n",
            "Requirement already satisfied: pyarrow>=15.0.0 in ./.venv/lib/python3.11/site-packages (from datasets) (20.0.0)\n",
            "Requirement already satisfied: dill<0.3.9,>=0.3.0 in ./.venv/lib/python3.11/site-packages (from datasets) (0.3.8)\n",
            "Requirement already satisfied: xxhash in ./.venv/lib/python3.11/site-packages (from datasets) (3.5.0)\n",
            "Requirement already satisfied: multiprocess<0.70.17 in ./.venv/lib/python3.11/site-packages (from datasets) (0.70.16)\n",
            "Requirement already satisfied: aiohttp in ./.venv/lib/python3.11/site-packages (from datasets) (3.11.18)\n",
            "Requirement already satisfied: imbalanced-learn in ./.venv/lib/python3.11/site-packages (from imblearn) (0.13.0)\n",
            "Requirement already satisfied: absl-py>=1.0.0 in ./.venv/lib/python3.11/site-packages (from tensorflow) (2.2.2)\n",
            "Requirement already satisfied: astunparse>=1.6.0 in ./.venv/lib/python3.11/site-packages (from tensorflow) (1.6.3)\n",
            "Requirement already satisfied: flatbuffers>=24.3.25 in ./.venv/lib/python3.11/site-packages (from tensorflow) (25.2.10)\n",
            "Requirement already satisfied: gast!=0.5.0,!=0.5.1,!=0.5.2,>=0.2.1 in ./.venv/lib/python3.11/site-packages (from tensorflow) (0.6.0)\n",
            "Requirement already satisfied: google-pasta>=0.1.1 in ./.venv/lib/python3.11/site-packages (from tensorflow) (0.2.0)\n",
            "Requirement already satisfied: libclang>=13.0.0 in ./.venv/lib/python3.11/site-packages (from tensorflow) (18.1.1)\n",
            "Requirement already satisfied: opt-einsum>=2.3.2 in ./.venv/lib/python3.11/site-packages (from tensorflow) (3.4.0)\n",
            "Requirement already satisfied: protobuf!=4.21.0,!=4.21.1,!=4.21.2,!=4.21.3,!=4.21.4,!=4.21.5,<6.0.0dev,>=3.20.3 in ./.venv/lib/python3.11/site-packages (from tensorflow) (5.29.4)\n",
            "Requirement already satisfied: setuptools in ./.venv/lib/python3.11/site-packages (from tensorflow) (65.5.0)\n",
            "Requirement already satisfied: six>=1.12.0 in ./.venv/lib/python3.11/site-packages (from tensorflow) (1.17.0)\n",
            "Requirement already satisfied: termcolor>=1.1.0 in ./.venv/lib/python3.11/site-packages (from tensorflow) (3.1.0)\n",
            "Requirement already satisfied: wrapt>=1.11.0 in ./.venv/lib/python3.11/site-packages (from tensorflow) (1.17.2)\n",
            "Requirement already satisfied: grpcio<2.0,>=1.24.3 in ./.venv/lib/python3.11/site-packages (from tensorflow) (1.71.0)\n",
            "Requirement already satisfied: tensorboard~=2.19.0 in ./.venv/lib/python3.11/site-packages (from tensorflow) (2.19.0)\n",
            "Requirement already satisfied: keras>=3.5.0 in ./.venv/lib/python3.11/site-packages (from tensorflow) (3.9.2)\n",
            "Requirement already satisfied: h5py>=3.11.0 in ./.venv/lib/python3.11/site-packages (from tensorflow) (3.13.0)\n",
            "Requirement already satisfied: ml-dtypes<1.0.0,>=0.5.1 in ./.venv/lib/python3.11/site-packages (from tensorflow) (0.5.1)\n",
            "Requirement already satisfied: tensorflow-io-gcs-filesystem>=0.23.1 in ./.venv/lib/python3.11/site-packages (from tensorflow) (0.37.1)\n",
            "Requirement already satisfied: charset-normalizer<4,>=2 in ./.venv/lib/python3.11/site-packages (from requests->transformers) (3.4.2)\n",
            "Requirement already satisfied: idna<4,>=2.5 in ./.venv/lib/python3.11/site-packages (from requests->transformers) (3.10)\n",
            "Requirement already satisfied: urllib3<3,>=1.21.1 in ./.venv/lib/python3.11/site-packages (from requests->transformers) (2.4.0)\n",
            "Requirement already satisfied: certifi>=2017.4.17 in ./.venv/lib/python3.11/site-packages (from requests->transformers) (2025.4.26)\n",
            "Requirement already satisfied: markdown>=2.6.8 in ./.venv/lib/python3.11/site-packages (from tensorboard~=2.19.0->tensorflow) (3.8)\n",
            "Requirement already satisfied: tensorboard-data-server<0.8.0,>=0.7.0 in ./.venv/lib/python3.11/site-packages (from tensorboard~=2.19.0->tensorflow) (0.7.2)\n",
            "Requirement already satisfied: werkzeug>=1.0.1 in ./.venv/lib/python3.11/site-packages (from tensorboard~=2.19.0->tensorflow) (3.1.3)\n",
            "Requirement already satisfied: aiohappyeyeballs>=2.3.0 in ./.venv/lib/python3.11/site-packages (from aiohttp->datasets) (2.6.1)\n",
            "Requirement already satisfied: aiosignal>=1.1.2 in ./.venv/lib/python3.11/site-packages (from aiohttp->datasets) (1.3.2)\n",
            "Requirement already satisfied: attrs>=17.3.0 in ./.venv/lib/python3.11/site-packages (from aiohttp->datasets) (25.3.0)\n",
            "Requirement already satisfied: frozenlist>=1.1.1 in ./.venv/lib/python3.11/site-packages (from aiohttp->datasets) (1.6.0)\n",
            "Requirement already satisfied: multidict<7.0,>=4.5 in ./.venv/lib/python3.11/site-packages (from aiohttp->datasets) (6.4.3)\n",
            "Requirement already satisfied: propcache>=0.2.0 in ./.venv/lib/python3.11/site-packages (from aiohttp->datasets) (0.3.1)\n",
            "Requirement already satisfied: yarl<2.0,>=1.17.0 in ./.venv/lib/python3.11/site-packages (from aiohttp->datasets) (1.20.0)\n",
            "Requirement already satisfied: wheel<1.0,>=0.23.0 in ./.venv/lib/python3.11/site-packages (from astunparse>=1.6.0->tensorflow) (0.45.1)\n",
            "Requirement already satisfied: rich in ./.venv/lib/python3.11/site-packages (from keras>=3.5.0->tensorflow) (14.0.0)\n",
            "Requirement already satisfied: namex in ./.venv/lib/python3.11/site-packages (from keras>=3.5.0->tensorflow) (0.0.9)\n",
            "Requirement already satisfied: optree in ./.venv/lib/python3.11/site-packages (from keras>=3.5.0->tensorflow) (0.15.0)\n",
            "Requirement already satisfied: mpmath<1.4,>=1.1.0 in ./.venv/lib/python3.11/site-packages (from sympy>=1.13.3->torch) (1.3.0)\n",
            "Requirement already satisfied: MarkupSafe>=2.1.1 in ./.venv/lib/python3.11/site-packages (from werkzeug>=1.0.1->tensorboard~=2.19.0->tensorflow) (3.0.2)\n",
            "Requirement already satisfied: scipy<2,>=1.10.1 in ./.venv/lib/python3.11/site-packages (from imbalanced-learn->imblearn) (1.15.2)\n",
            "Requirement already satisfied: scikit-learn<2,>=1.3.2 in ./.venv/lib/python3.11/site-packages (from imbalanced-learn->imblearn) (1.6.1)\n",
            "Requirement already satisfied: sklearn-compat<1,>=0.1 in ./.venv/lib/python3.11/site-packages (from imbalanced-learn->imblearn) (0.1.3)\n",
            "Requirement already satisfied: joblib<2,>=1.1.1 in ./.venv/lib/python3.11/site-packages (from imbalanced-learn->imblearn) (1.5.0)\n",
            "Requirement already satisfied: threadpoolctl<4,>=2.0.0 in ./.venv/lib/python3.11/site-packages (from imbalanced-learn->imblearn) (3.6.0)\n",
            "Requirement already satisfied: markdown-it-py>=2.2.0 in ./.venv/lib/python3.11/site-packages (from rich->keras>=3.5.0->tensorflow) (3.0.0)\n",
            "Requirement already satisfied: pygments<3.0.0,>=2.13.0 in ./.venv/lib/python3.11/site-packages (from rich->keras>=3.5.0->tensorflow) (2.19.1)\n",
            "Requirement already satisfied: mdurl~=0.1 in ./.venv/lib/python3.11/site-packages (from markdown-it-py>=2.2.0->rich->keras>=3.5.0->tensorflow) (0.1.2)\n",
            "Using cached tensorflow-2.19.0-cp311-cp311-macosx_12_0_arm64.whl (252.6 MB)\n",
            "Installing collected packages: tensorflow\n",
            "Successfully installed tensorflow-2.19.0\n"
          ]
        }
      ],
      "source": [
        "!pip install scikit-learn\n",
        "!pip install pandas numpy matplotlib transformers torch datasets imblearn tensorflow"
      ]
    },
    {
      "cell_type": "code",
      "execution_count": 22,
      "metadata": {},
      "outputs": [],
      "source": [
        "from sklearn.model_selection import train_test_split\n",
        "import pandas as pd\n",
        "random_seed = 42\n",
        "import matplotlib.pyplot as plt\n",
        "from transformers import pipeline"
      ]
    },
    {
      "cell_type": "code",
      "execution_count": 23,
      "metadata": {},
      "outputs": [],
      "source": [
        "labelling_budgets=[16, 32, 64, 128, 256, 512, 1024]"
      ]
    },
    {
      "cell_type": "markdown",
      "metadata": {
        "id": "dZgBX35yYDL-"
      },
      "source": [
        "# Data Processing"
      ]
    },
    {
      "cell_type": "code",
      "execution_count": 24,
      "metadata": {
        "colab": {
          "base_uri": "https://localhost:8080/",
          "height": 424
        },
        "id": "wK2x3CMpov7i",
        "outputId": "5b728e92-d0ba-448e-e766-9a38535e3804"
      },
      "outputs": [],
      "source": [
        "# IMDB Movie Reviews\n",
        "train_path = \"Raw Data/IMDB Movie Reviews/train_dataset.csv\"\n",
        "test_path = \"Raw Data/IMDB Movie Reviews/test_dataset.csv\"\n",
        "unsupervised_path = \"Raw Data/IMDB Movie Reviews/unsupervised_dataset.csv\"\n",
        "\n",
        "IMDB_train = pd.read_csv(train_path)\n",
        "IMDB_test = pd.read_csv(test_path)\n",
        "IMDB_unsupervised = pd.read_csv(unsupervised_path)\n",
        "\n",
        "\n",
        "#Wikipedia Comments\n",
        "wiki_comments_path = \"Raw Data/Wikipedia Personal Attacks/attack_annotated_comments.tsv\"\n",
        "wiki_annotations_path = \"Raw Data/Wikipedia Personal Attacks/attack_annotations.tsv\"\n",
        "\n",
        "wiki_comments = pd.read_csv(wiki_comments_path, sep='\\t')\n",
        "wiki_annotations = pd.read_csv(wiki_annotations_path, sep='\\t')\n"
      ]
    },
    {
      "cell_type": "code",
      "execution_count": 25,
      "metadata": {},
      "outputs": [
        {
          "data": {
            "text/html": [
              "<div>\n",
              "<style scoped>\n",
              "    .dataframe tbody tr th:only-of-type {\n",
              "        vertical-align: middle;\n",
              "    }\n",
              "\n",
              "    .dataframe tbody tr th {\n",
              "        vertical-align: top;\n",
              "    }\n",
              "\n",
              "    .dataframe thead th {\n",
              "        text-align: right;\n",
              "    }\n",
              "</style>\n",
              "<table border=\"1\" class=\"dataframe\">\n",
              "  <thead>\n",
              "    <tr style=\"text-align: right;\">\n",
              "      <th></th>\n",
              "      <th>text</th>\n",
              "      <th>label</th>\n",
              "    </tr>\n",
              "  </thead>\n",
              "  <tbody>\n",
              "    <tr>\n",
              "      <th>0</th>\n",
              "      <td>I rented I AM CURIOUS-YELLOW from my video sto...</td>\n",
              "      <td>0</td>\n",
              "    </tr>\n",
              "    <tr>\n",
              "      <th>1</th>\n",
              "      <td>\"I Am Curious: Yellow\" is a risible and preten...</td>\n",
              "      <td>0</td>\n",
              "    </tr>\n",
              "    <tr>\n",
              "      <th>2</th>\n",
              "      <td>If only to avoid making this type of film in t...</td>\n",
              "      <td>0</td>\n",
              "    </tr>\n",
              "    <tr>\n",
              "      <th>3</th>\n",
              "      <td>This film was probably inspired by Godard's Ma...</td>\n",
              "      <td>0</td>\n",
              "    </tr>\n",
              "    <tr>\n",
              "      <th>4</th>\n",
              "      <td>Oh, brother...after hearing about this ridicul...</td>\n",
              "      <td>0</td>\n",
              "    </tr>\n",
              "    <tr>\n",
              "      <th>...</th>\n",
              "      <td>...</td>\n",
              "      <td>...</td>\n",
              "    </tr>\n",
              "    <tr>\n",
              "      <th>24995</th>\n",
              "      <td>A hit at the time but now better categorised a...</td>\n",
              "      <td>1</td>\n",
              "    </tr>\n",
              "    <tr>\n",
              "      <th>24996</th>\n",
              "      <td>I love this movie like no other. Another time ...</td>\n",
              "      <td>1</td>\n",
              "    </tr>\n",
              "    <tr>\n",
              "      <th>24997</th>\n",
              "      <td>This film and it's sequel Barry Mckenzie holds...</td>\n",
              "      <td>1</td>\n",
              "    </tr>\n",
              "    <tr>\n",
              "      <th>24998</th>\n",
              "      <td>'The Adventures Of Barry McKenzie' started lif...</td>\n",
              "      <td>1</td>\n",
              "    </tr>\n",
              "    <tr>\n",
              "      <th>24999</th>\n",
              "      <td>The story centers around Barry McKenzie who mu...</td>\n",
              "      <td>1</td>\n",
              "    </tr>\n",
              "  </tbody>\n",
              "</table>\n",
              "<p>25000 rows × 2 columns</p>\n",
              "</div>"
            ],
            "text/plain": [
              "                                                    text  label\n",
              "0      I rented I AM CURIOUS-YELLOW from my video sto...      0\n",
              "1      \"I Am Curious: Yellow\" is a risible and preten...      0\n",
              "2      If only to avoid making this type of film in t...      0\n",
              "3      This film was probably inspired by Godard's Ma...      0\n",
              "4      Oh, brother...after hearing about this ridicul...      0\n",
              "...                                                  ...    ...\n",
              "24995  A hit at the time but now better categorised a...      1\n",
              "24996  I love this movie like no other. Another time ...      1\n",
              "24997  This film and it's sequel Barry Mckenzie holds...      1\n",
              "24998  'The Adventures Of Barry McKenzie' started lif...      1\n",
              "24999  The story centers around Barry McKenzie who mu...      1\n",
              "\n",
              "[25000 rows x 2 columns]"
            ]
          },
          "execution_count": 25,
          "metadata": {},
          "output_type": "execute_result"
        }
      ],
      "source": [
        "IMDB_train"
      ]
    },
    {
      "cell_type": "code",
      "execution_count": 26,
      "metadata": {},
      "outputs": [
        {
          "data": {
            "text/html": [
              "<div>\n",
              "<style scoped>\n",
              "    .dataframe tbody tr th:only-of-type {\n",
              "        vertical-align: middle;\n",
              "    }\n",
              "\n",
              "    .dataframe tbody tr th {\n",
              "        vertical-align: top;\n",
              "    }\n",
              "\n",
              "    .dataframe thead th {\n",
              "        text-align: right;\n",
              "    }\n",
              "</style>\n",
              "<table border=\"1\" class=\"dataframe\">\n",
              "  <thead>\n",
              "    <tr style=\"text-align: right;\">\n",
              "      <th></th>\n",
              "      <th>rev_id</th>\n",
              "      <th>comment</th>\n",
              "      <th>year</th>\n",
              "      <th>logged_in</th>\n",
              "      <th>ns</th>\n",
              "      <th>sample</th>\n",
              "      <th>split</th>\n",
              "    </tr>\n",
              "  </thead>\n",
              "  <tbody>\n",
              "    <tr>\n",
              "      <th>0</th>\n",
              "      <td>37675</td>\n",
              "      <td>`-NEWLINE_TOKENThis is not ``creative``.  Thos...</td>\n",
              "      <td>2002</td>\n",
              "      <td>False</td>\n",
              "      <td>article</td>\n",
              "      <td>random</td>\n",
              "      <td>train</td>\n",
              "    </tr>\n",
              "    <tr>\n",
              "      <th>1</th>\n",
              "      <td>44816</td>\n",
              "      <td>`NEWLINE_TOKENNEWLINE_TOKEN:: the term ``stand...</td>\n",
              "      <td>2002</td>\n",
              "      <td>False</td>\n",
              "      <td>article</td>\n",
              "      <td>random</td>\n",
              "      <td>train</td>\n",
              "    </tr>\n",
              "    <tr>\n",
              "      <th>2</th>\n",
              "      <td>49851</td>\n",
              "      <td>NEWLINE_TOKENNEWLINE_TOKENTrue or false, the s...</td>\n",
              "      <td>2002</td>\n",
              "      <td>False</td>\n",
              "      <td>article</td>\n",
              "      <td>random</td>\n",
              "      <td>train</td>\n",
              "    </tr>\n",
              "    <tr>\n",
              "      <th>3</th>\n",
              "      <td>89320</td>\n",
              "      <td>Next, maybe you could work on being less cond...</td>\n",
              "      <td>2002</td>\n",
              "      <td>True</td>\n",
              "      <td>article</td>\n",
              "      <td>random</td>\n",
              "      <td>dev</td>\n",
              "    </tr>\n",
              "    <tr>\n",
              "      <th>4</th>\n",
              "      <td>93890</td>\n",
              "      <td>This page will need disambiguation.</td>\n",
              "      <td>2002</td>\n",
              "      <td>True</td>\n",
              "      <td>article</td>\n",
              "      <td>random</td>\n",
              "      <td>train</td>\n",
              "    </tr>\n",
              "    <tr>\n",
              "      <th>...</th>\n",
              "      <td>...</td>\n",
              "      <td>...</td>\n",
              "      <td>...</td>\n",
              "      <td>...</td>\n",
              "      <td>...</td>\n",
              "      <td>...</td>\n",
              "      <td>...</td>\n",
              "    </tr>\n",
              "    <tr>\n",
              "      <th>115859</th>\n",
              "      <td>699848324</td>\n",
              "      <td>`NEWLINE_TOKENNEWLINE_TOKENNEWLINE_TOKENThese ...</td>\n",
              "      <td>2016</td>\n",
              "      <td>True</td>\n",
              "      <td>article</td>\n",
              "      <td>blocked</td>\n",
              "      <td>train</td>\n",
              "    </tr>\n",
              "    <tr>\n",
              "      <th>115860</th>\n",
              "      <td>699851288</td>\n",
              "      <td>NEWLINE_TOKENNEWLINE_TOKENThe Institute for Hi...</td>\n",
              "      <td>2016</td>\n",
              "      <td>True</td>\n",
              "      <td>article</td>\n",
              "      <td>blocked</td>\n",
              "      <td>test</td>\n",
              "    </tr>\n",
              "    <tr>\n",
              "      <th>115861</th>\n",
              "      <td>699857133</td>\n",
              "      <td>NEWLINE_TOKEN:The way you're trying to describ...</td>\n",
              "      <td>2016</td>\n",
              "      <td>True</td>\n",
              "      <td>article</td>\n",
              "      <td>blocked</td>\n",
              "      <td>train</td>\n",
              "    </tr>\n",
              "    <tr>\n",
              "      <th>115862</th>\n",
              "      <td>699891012</td>\n",
              "      <td>NEWLINE_TOKENNEWLINE_TOKEN== Warning ==NEWLINE...</td>\n",
              "      <td>2016</td>\n",
              "      <td>True</td>\n",
              "      <td>user</td>\n",
              "      <td>blocked</td>\n",
              "      <td>dev</td>\n",
              "    </tr>\n",
              "    <tr>\n",
              "      <th>115863</th>\n",
              "      <td>699897151</td>\n",
              "      <td>Alternate option===NEWLINE_TOKENIs there perha...</td>\n",
              "      <td>2016</td>\n",
              "      <td>True</td>\n",
              "      <td>article</td>\n",
              "      <td>blocked</td>\n",
              "      <td>train</td>\n",
              "    </tr>\n",
              "  </tbody>\n",
              "</table>\n",
              "<p>115864 rows × 7 columns</p>\n",
              "</div>"
            ],
            "text/plain": [
              "           rev_id                                            comment  year  \\\n",
              "0           37675  `-NEWLINE_TOKENThis is not ``creative``.  Thos...  2002   \n",
              "1           44816  `NEWLINE_TOKENNEWLINE_TOKEN:: the term ``stand...  2002   \n",
              "2           49851  NEWLINE_TOKENNEWLINE_TOKENTrue or false, the s...  2002   \n",
              "3           89320   Next, maybe you could work on being less cond...  2002   \n",
              "4           93890               This page will need disambiguation.   2002   \n",
              "...           ...                                                ...   ...   \n",
              "115859  699848324  `NEWLINE_TOKENNEWLINE_TOKENNEWLINE_TOKENThese ...  2016   \n",
              "115860  699851288  NEWLINE_TOKENNEWLINE_TOKENThe Institute for Hi...  2016   \n",
              "115861  699857133  NEWLINE_TOKEN:The way you're trying to describ...  2016   \n",
              "115862  699891012  NEWLINE_TOKENNEWLINE_TOKEN== Warning ==NEWLINE...  2016   \n",
              "115863  699897151  Alternate option===NEWLINE_TOKENIs there perha...  2016   \n",
              "\n",
              "        logged_in       ns   sample  split  \n",
              "0           False  article   random  train  \n",
              "1           False  article   random  train  \n",
              "2           False  article   random  train  \n",
              "3            True  article   random    dev  \n",
              "4            True  article   random  train  \n",
              "...           ...      ...      ...    ...  \n",
              "115859       True  article  blocked  train  \n",
              "115860       True  article  blocked   test  \n",
              "115861       True  article  blocked  train  \n",
              "115862       True     user  blocked    dev  \n",
              "115863       True  article  blocked  train  \n",
              "\n",
              "[115864 rows x 7 columns]"
            ]
          },
          "execution_count": 26,
          "metadata": {},
          "output_type": "execute_result"
        }
      ],
      "source": [
        "wiki_comments"
      ]
    },
    {
      "cell_type": "code",
      "execution_count": 27,
      "metadata": {},
      "outputs": [],
      "source": [
        "wiki_data = wiki_comments\n",
        "\n",
        "wiki_data[\"comment\"] = wiki_data[\"comment\"].str.replace(\"NEWLINE_TOKEN\", \"\")\n",
        "wiki_data = wiki_data.drop(columns=[\"ns\", \"sample\", \"year\",\"rev_id\"])\n",
        "wiki_data = wiki_data.rename(columns={\"logged_in\": \"label\"})\n",
        "wiki_data = wiki_data.rename(columns={\"comment\": \"text\"})\n",
        "wiki_data[\"label\"] = wiki_data[\"label\"].map({False: 0, True: 1})"
      ]
    },
    {
      "cell_type": "code",
      "execution_count": 28,
      "metadata": {},
      "outputs": [
        {
          "data": {
            "text/html": [
              "<div>\n",
              "<style scoped>\n",
              "    .dataframe tbody tr th:only-of-type {\n",
              "        vertical-align: middle;\n",
              "    }\n",
              "\n",
              "    .dataframe tbody tr th {\n",
              "        vertical-align: top;\n",
              "    }\n",
              "\n",
              "    .dataframe thead th {\n",
              "        text-align: right;\n",
              "    }\n",
              "</style>\n",
              "<table border=\"1\" class=\"dataframe\">\n",
              "  <thead>\n",
              "    <tr style=\"text-align: right;\">\n",
              "      <th></th>\n",
              "      <th>text</th>\n",
              "      <th>label</th>\n",
              "      <th>split</th>\n",
              "    </tr>\n",
              "  </thead>\n",
              "  <tbody>\n",
              "    <tr>\n",
              "      <th>0</th>\n",
              "      <td>`-This is not ``creative``.  Those are the dic...</td>\n",
              "      <td>0</td>\n",
              "      <td>train</td>\n",
              "    </tr>\n",
              "    <tr>\n",
              "      <th>1</th>\n",
              "      <td>`:: the term ``standard model`` is itself less...</td>\n",
              "      <td>0</td>\n",
              "      <td>train</td>\n",
              "    </tr>\n",
              "    <tr>\n",
              "      <th>2</th>\n",
              "      <td>True or false, the situation as of March 2002 ...</td>\n",
              "      <td>0</td>\n",
              "      <td>train</td>\n",
              "    </tr>\n",
              "    <tr>\n",
              "      <th>3</th>\n",
              "      <td>Next, maybe you could work on being less cond...</td>\n",
              "      <td>1</td>\n",
              "      <td>dev</td>\n",
              "    </tr>\n",
              "    <tr>\n",
              "      <th>4</th>\n",
              "      <td>This page will need disambiguation.</td>\n",
              "      <td>1</td>\n",
              "      <td>train</td>\n",
              "    </tr>\n",
              "    <tr>\n",
              "      <th>...</th>\n",
              "      <td>...</td>\n",
              "      <td>...</td>\n",
              "      <td>...</td>\n",
              "    </tr>\n",
              "    <tr>\n",
              "      <th>115859</th>\n",
              "      <td>`These sources don't exactly exude a sense of ...</td>\n",
              "      <td>1</td>\n",
              "      <td>train</td>\n",
              "    </tr>\n",
              "    <tr>\n",
              "      <th>115860</th>\n",
              "      <td>The Institute for Historical Review is a peer-...</td>\n",
              "      <td>1</td>\n",
              "      <td>test</td>\n",
              "    </tr>\n",
              "    <tr>\n",
              "      <th>115861</th>\n",
              "      <td>:The way you're trying to describe it in this ...</td>\n",
              "      <td>1</td>\n",
              "      <td>train</td>\n",
              "    </tr>\n",
              "    <tr>\n",
              "      <th>115862</th>\n",
              "      <td>== Warning ==There is clearly a protectionist ...</td>\n",
              "      <td>1</td>\n",
              "      <td>dev</td>\n",
              "    </tr>\n",
              "    <tr>\n",
              "      <th>115863</th>\n",
              "      <td>Alternate option===Is there perhaps enough new...</td>\n",
              "      <td>1</td>\n",
              "      <td>train</td>\n",
              "    </tr>\n",
              "  </tbody>\n",
              "</table>\n",
              "<p>115864 rows × 3 columns</p>\n",
              "</div>"
            ],
            "text/plain": [
              "                                                     text  label  split\n",
              "0       `-This is not ``creative``.  Those are the dic...      0  train\n",
              "1       `:: the term ``standard model`` is itself less...      0  train\n",
              "2       True or false, the situation as of March 2002 ...      0  train\n",
              "3        Next, maybe you could work on being less cond...      1    dev\n",
              "4                    This page will need disambiguation.       1  train\n",
              "...                                                   ...    ...    ...\n",
              "115859  `These sources don't exactly exude a sense of ...      1  train\n",
              "115860  The Institute for Historical Review is a peer-...      1   test\n",
              "115861  :The way you're trying to describe it in this ...      1  train\n",
              "115862  == Warning ==There is clearly a protectionist ...      1    dev\n",
              "115863  Alternate option===Is there perhaps enough new...      1  train\n",
              "\n",
              "[115864 rows x 3 columns]"
            ]
          },
          "execution_count": 28,
          "metadata": {},
          "output_type": "execute_result"
        }
      ],
      "source": [
        "wiki_data"
      ]
    },
    {
      "cell_type": "code",
      "execution_count": 29,
      "metadata": {},
      "outputs": [
        {
          "name": "stdout",
          "output_type": "stream",
          "text": [
            "label\n",
            "1    50846\n",
            "0    18680\n",
            "Name: count, dtype: int64\n",
            "label\n",
            "1    17262\n",
            "0     5916\n",
            "Name: count, dtype: int64\n",
            "label\n",
            "1    16810\n",
            "0     6350\n",
            "Name: count, dtype: int64\n"
          ]
        }
      ],
      "source": [
        "wiki_train = wiki_data[wiki_data['split'] == 'train']\n",
        "wiki_train = wiki_train.drop(columns=[\"split\"])\n",
        "wiki_train\n",
        "print(wiki_train['label'].value_counts())\n",
        "\n",
        "wiki_test = wiki_data[wiki_data['split'] == 'test']\n",
        "wiki_test = wiki_test.drop(columns=[\"split\"])\n",
        "print(wiki_test['label'].value_counts())\n",
        "\n",
        "wiki_dev = wiki_data[wiki_data['split'] == 'dev']\n",
        "wiki_dev = wiki_dev.drop(columns=[\"split\"])\n",
        "print(wiki_dev['label'].value_counts())"
      ]
    },
    {
      "cell_type": "markdown",
      "metadata": {},
      "source": [
        "### Unbalanced dataset for IMDB"
      ]
    },
    {
      "cell_type": "code",
      "execution_count": 30,
      "metadata": {},
      "outputs": [],
      "source": [
        "def unbalanced(df,p):\n",
        "    df_neg = df[df['label'] == 0]\n",
        "    df_pos = df[df['label'] == 1]\n",
        "    \n",
        "    n_pos = round(len(df_neg)*p/(1-p))\n",
        "    df_pos = df_pos.sample(n=n_pos)\n",
        "    df_unbalanced = pd.concat([df_neg, df_pos])\n",
        "\n",
        "    # Shuffle\n",
        "    df_unbalanced = df_unbalanced.sample(frac=1, random_state=42)\n",
        "    \n",
        "    print(df_unbalanced[\"label\"].value_counts(normalize=True))\n",
        "    print(len(df_unbalanced))\n",
        "    return df_unbalanced"
      ]
    },
    {
      "cell_type": "code",
      "execution_count": 31,
      "metadata": {},
      "outputs": [
        {
          "name": "stdout",
          "output_type": "stream",
          "text": [
            "label\n",
            "0    0.899993\n",
            "1    0.100007\n",
            "Name: proportion, dtype: float64\n",
            "13889\n",
            "label\n",
            "0    0.9\n",
            "1    0.1\n",
            "Name: proportion, dtype: float64\n",
            "6880\n",
            "label\n",
            "0    0.899986\n",
            "1    0.100014\n",
            "Name: proportion, dtype: float64\n",
            "7009\n"
          ]
        }
      ],
      "source": [
        "p=0.1\n",
        "\n",
        "IMDB_train_balanced = IMDB_train\n",
        "IMDB_train_unbalanced = unbalanced(IMDB_train, p)\n",
        "\n",
        "IMDB_test_2, IMDB_dev =train_test_split(IMDB_test, test_size=0.5, random_state=42)\n",
        "\n",
        "IMDB_test_balanced = IMDB_test_2\n",
        "IMDB_test_unbalanced = unbalanced(IMDB_test_2, p)\n",
        "\n",
        "IMDB_dev_balanced = IMDB_dev\n",
        "IMDB_dev_unbalanced = unbalanced(IMDB_dev, p)"
      ]
    },
    {
      "cell_type": "code",
      "execution_count": 32,
      "metadata": {},
      "outputs": [],
      "source": [
        "imdb_datasets = {\n",
        "    \"train_balanced\": IMDB_train_balanced,\n",
        "    \"train_unbalanced\": IMDB_train_unbalanced,\n",
        "    \"test_balanced\": IMDB_test_balanced,\n",
        "    \"test_unbalanced\": IMDB_test_unbalanced,\n",
        "    \"dev_balanced\": IMDB_dev_balanced,\n",
        "    \"dev_unbalanced\": IMDB_dev_unbalanced\n",
        "}"
      ]
    },
    {
      "cell_type": "markdown",
      "metadata": {},
      "source": [
        "### Balanced dataset for Wikipedia"
      ]
    },
    {
      "cell_type": "code",
      "execution_count": 33,
      "metadata": {},
      "outputs": [],
      "source": [
        "def balanced(df):\n",
        "    df_neg = df[df['label'] == 0]\n",
        "    df_pos = df[df['label'] == 1]\n",
        "    \n",
        "    n_pos = len(df_neg)\n",
        "    df_pos=df_pos.sample(n=n_pos)\n",
        "    df_balanced = pd.concat([df_neg, df_pos])\n",
        "    \n",
        "    # Shuffle\n",
        "    df_balanced = df_balanced.sample(frac=1, random_state=42)\n",
        "    \n",
        "    print(df_balanced[\"label\"].value_counts(normalize=True))\n",
        "    print(len(df_balanced))\n",
        "    return df_balanced"
      ]
    },
    {
      "cell_type": "code",
      "execution_count": 34,
      "metadata": {},
      "outputs": [
        {
          "name": "stdout",
          "output_type": "stream",
          "text": [
            "label\n",
            "1    0.5\n",
            "0    0.5\n",
            "Name: proportion, dtype: float64\n",
            "37360\n",
            "label\n",
            "1    0.5\n",
            "0    0.5\n",
            "Name: proportion, dtype: float64\n",
            "11832\n",
            "label\n",
            "1    0.5\n",
            "0    0.5\n",
            "Name: proportion, dtype: float64\n",
            "12700\n"
          ]
        }
      ],
      "source": [
        "wiki_train_unbalanced = wiki_train\n",
        "wiki_test_unbalanced = wiki_test\n",
        "wiki_dev_unbalanced = wiki_dev\n",
        "\n",
        "wiki_train_balanced = balanced(wiki_train_unbalanced)\n",
        "wiki_test_balanced = balanced(wiki_test_unbalanced)\n",
        "wiki_dev_balanced = balanced(wiki_dev_unbalanced)"
      ]
    },
    {
      "cell_type": "code",
      "execution_count": 35,
      "metadata": {},
      "outputs": [],
      "source": [
        "wiki_datasets = {\n",
        "    \"train_unbalanced\": wiki_train_unbalanced,\n",
        "    \"test_unbalanced\": wiki_test_unbalanced,\n",
        "    \"dev_unbalanced\": wiki_dev_unbalanced,\n",
        "    \"train_balanced\": wiki_train_balanced,\n",
        "    \"test_balanced\": wiki_test_balanced,\n",
        "    \"dev_balanced\": wiki_dev_balanced,\n",
        "}"
      ]
    },
    {
      "cell_type": "markdown",
      "metadata": {
        "id": "s4KtMM1ngpYx"
      },
      "source": [
        "# Naive Bayes"
      ]
    },
    {
      "cell_type": "code",
      "execution_count": 38,
      "metadata": {
        "id": "sf3XvHutgrLn"
      },
      "outputs": [],
      "source": [
        "import pandas as pd\n",
        "from sklearn.feature_extraction.text import TfidfVectorizer\n",
        "from sklearn.naive_bayes import MultinomialNB\n",
        "from sklearn.metrics import accuracy_score, classification_report\n",
        "from imblearn.over_sampling import RandomOverSampler\n",
        "from sklearn.metrics import f1_score\n",
        "\n",
        "def train_and_evaluate_nb(df_train, df_test,n=-1, text_col='text', label_col='label', random_seed=random_seed):\n",
        "\n",
        "    df_train = df_train.dropna(subset=[text_col])\n",
        "    df_test = df_test.dropna(subset=[text_col])\n",
        "    if n > 0:\n",
        "        df_train = df_train.sample(n=n, random_state=random_seed).reset_index(drop=True)\n",
        "    # Extraction des textes et labels\n",
        "    X_train_texts = df_train[text_col]\n",
        "    y_train = df_train[label_col]\n",
        "\n",
        "    X_test_texts = df_test[text_col]\n",
        "    y_test = df_test[label_col]\n",
        "\n",
        "    # Vectorisation du texte avec TF-IDF\n",
        "    vectorizer = TfidfVectorizer()\n",
        "    X_train = vectorizer.fit_transform(X_train_texts)\n",
        "    X_test = vectorizer.transform(X_test_texts)\n",
        "\n",
        "    # Entraînement du modèle Naive Bayes\n",
        "    model_nb = MultinomialNB()\n",
        "    model_nb.fit(X_train, y_train)\n",
        "\n",
        "    # Prédictions et évaluation\n",
        "    preds = model_nb.predict(X_test)\n",
        "    #print(\"=== Évaluation du modèle ===\")\n",
        "    #print(\"Accuracy:\", accuracy_score(y_test, preds))\n",
        "    #print(classification_report(y_test, preds))\n",
        "\n",
        "    f1_val = f1_score(y_test, preds, average='macro')\n",
        "\n",
        "    return model_nb, f1_val,\n",
        "\n"
      ]
    },
    {
      "cell_type": "code",
      "execution_count": 39,
      "metadata": {
        "colab": {
          "base_uri": "https://localhost:8080/"
        },
        "id": "toPI236Ru6Wf",
        "outputId": "62820671-7f16-46d1-9305-778fc68b9c15"
      },
      "outputs": [
        {
          "name": "stdout",
          "output_type": "stream",
          "text": [
            "=== Score F1 ===\n",
            "0.8289532297820281\n"
          ]
        }
      ],
      "source": [
        "model_nb, f1_scor = train_and_evaluate_nb(IMDB_train, IMDB_test)\n",
        "\n",
        "print(\"=== Score F1 ===\")\n",
        "print(f1_scor)"
      ]
    },
    {
      "cell_type": "code",
      "execution_count": 40,
      "metadata": {},
      "outputs": [],
      "source": [
        "def plot_model_performance_by_budget(\n",
        "    datasets_dict,\n",
        "    model_fn,\n",
        "    model_name=\"Naive Bayes\",\n",
        "    labelling_budgets= labelling_budgets,\n",
        "    colors=(\"blue\", \"red\", \"green\")\n",
        "):\n",
        "\n",
        "    f1_score_Balanced = []\n",
        "    f1_score_HalfBalanced = []\n",
        "    f1_score_UnBalanced = []\n",
        "\n",
        "    for budget in labelling_budgets:\n",
        "        # (a) Balanced train + balanced test\n",
        "        _, f1 = model_fn(datasets_dict[\"train_balanced\"], datasets_dict[\"test_balanced\"], budget)\n",
        "        f1_score_Balanced.append(f1)\n",
        "\n",
        "        # (b) Balanced train + unbalanced test\n",
        "        _, f1 = model_fn(datasets_dict[\"train_balanced\"], datasets_dict[\"test_unbalanced\"], budget)\n",
        "        f1_score_HalfBalanced.append(f1)\n",
        "\n",
        "        # (c) Unbalanced train + unbalanced test\n",
        "        _, f1 = model_fn(datasets_dict[\"train_unbalanced\"], datasets_dict[\"test_unbalanced\"], budget)\n",
        "        f1_score_UnBalanced.append(f1)\n",
        "\n",
        "    # --- Plotting ---\n",
        "    fig, axes = plt.subplots(1, 3, figsize=(15, 4), sharey=True)\n",
        "\n",
        "    axes[0].plot(labelling_budgets, f1_score_Balanced, marker='o', color=colors[0], label=model_name)\n",
        "    axes[0].set_title('(a) Balanced train and balanced test')\n",
        "    axes[0].set_xlabel('Labelling budget')\n",
        "    axes[0].set_ylabel('Macro F1 Score')\n",
        "    axes[0].set_ylim(0, 1.0)\n",
        "    axes[0].grid(True)\n",
        "    axes[0].legend()\n",
        "\n",
        "    axes[1].plot(labelling_budgets, f1_score_HalfBalanced, marker='o', color=colors[1], label=model_name)\n",
        "    axes[1].set_title('(b) Balanced train and unbalanced test')\n",
        "    axes[1].set_xlabel('Labelling budget')\n",
        "    axes[1].set_ylim(0, 1.0)\n",
        "    axes[1].grid(True)\n",
        "    axes[1].legend()\n",
        "\n",
        "    axes[2].plot(labelling_budgets, f1_score_UnBalanced, marker='o', color=colors[2], label=model_name)\n",
        "    axes[2].set_title('(c) Unbalanced train and unbalanced test')\n",
        "    axes[2].set_xlabel('Labelling budget')\n",
        "    axes[2].set_ylim(0, 1.0)\n",
        "    axes[2].grid(True)\n",
        "    axes[2].legend()\n",
        "\n",
        "    plt.tight_layout()\n",
        "    plt.show()"
      ]
    },
    {
      "cell_type": "code",
      "execution_count": 41,
      "metadata": {},
      "outputs": [
        {
          "data": {
            "image/png": "[encoded data removed]",
            "text/plain": [
              "<Figure size 1500x400 with 3 Axes>"
            ]
          },
          "metadata": {},
          "output_type": "display_data"
        }
      ],
      "source": [
        "plot_model_performance_by_budget(imdb_datasets,train_and_evaluate_nb)"
      ]
    },
    {
      "cell_type": "code",
      "execution_count": null,
      "metadata": {},
      "outputs": [
        {
          "data": {
            "image/png": "[encoded data removed]",
            "text/plain": [
              "<Figure size 1500x400 with 3 Axes>"
            ]
          },
          "metadata": {},
          "output_type": "display_data"
        }
      ],
      "source": [
        "plot_model_performance_by_budget(wiki_datasets,train_and_evaluate_nb)"
      ]
    },
    {
      "cell_type": "markdown",
      "metadata": {
        "id": "r6YQyt0wYh5o"
      },
      "source": [
        "# Weak Supervision"
      ]
    },
    {
      "cell_type": "code",
      "execution_count": null,
      "metadata": {
        "colab": {
          "base_uri": "https://localhost:8080/",
          "height": 358
        },
        "id": "lDv0pmrFbXLj",
        "outputId": "255dd8ee-7f7e-42f9-cf0f-90a432e38044"
      },
      "outputs": [
        {
          "ename": "NameError",
          "evalue": "name 'convert_labels' is not defined",
          "output_type": "error",
          "traceback": [
            "\u001b[0;31m---------------------------------------------------------------------------\u001b[0m",
            "\u001b[0;31mNameError\u001b[0m                                 Traceback (most recent call last)",
            "\u001b[0;32m<ipython-input-27-1cf8c8a6305b>\u001b[0m in \u001b[0;36m<cell line: 0>\u001b[0;34m()\u001b[0m\n\u001b[1;32m     78\u001b[0m \u001b[0;31m# Remplacez path_keywords et path_annotations par les chemins correspondants.\u001b[0m\u001b[0;34m\u001b[0m\u001b[0;34m\u001b[0m\u001b[0m\n\u001b[1;32m     79\u001b[0m \u001b[0;34m\u001b[0m\u001b[0m\n\u001b[0;32m---> 80\u001b[0;31m results, label_model = run_weak_supervision_experiment(\n\u001b[0m\u001b[1;32m     81\u001b[0m     \u001b[0mdf_train\u001b[0m\u001b[0;34m=\u001b[0m\u001b[0mbinary_abuse_train\u001b[0m\u001b[0;34m,\u001b[0m\u001b[0;34m\u001b[0m\u001b[0;34m\u001b[0m\u001b[0m\n\u001b[1;32m     82\u001b[0m     \u001b[0mdf_eval\u001b[0m\u001b[0;34m=\u001b[0m\u001b[0mbinary_abuse_dev\u001b[0m\u001b[0;34m,\u001b[0m\u001b[0;34m\u001b[0m\u001b[0;34m\u001b[0m\u001b[0m\n",
            "\u001b[0;32m<ipython-input-27-1cf8c8a6305b>\u001b[0m in \u001b[0;36mrun_weak_supervision_experiment\u001b[0;34m(df_train, df_eval, n_train, text_col, label_col, path_keywords, path_annotations, seed, tie_break_policy)\u001b[0m\n\u001b[1;32m     28\u001b[0m     \"\"\"\n\u001b[1;32m     29\u001b[0m     \u001b[0;31m# Convertir les DataFrames dans le format standard (doit produire au moins 'text' et 'label')\u001b[0m\u001b[0;34m\u001b[0m\u001b[0;34m\u001b[0m\u001b[0m\n\u001b[0;32m---> 30\u001b[0;31m     \u001b[0mdf_train_conv\u001b[0m\u001b[0;34m,\u001b[0m \u001b[0mn_classes_train\u001b[0m \u001b[0;34m=\u001b[0m \u001b[0mconvert_labels\u001b[0m\u001b[0;34m(\u001b[0m\u001b[0mdf_train\u001b[0m\u001b[0;34m)\u001b[0m\u001b[0;34m\u001b[0m\u001b[0;34m\u001b[0m\u001b[0m\n\u001b[0m\u001b[1;32m     31\u001b[0m     \u001b[0mdf_eval_conv\u001b[0m\u001b[0;34m,\u001b[0m \u001b[0mn_classes_eval\u001b[0m \u001b[0;34m=\u001b[0m \u001b[0mconvert_labels\u001b[0m\u001b[0;34m(\u001b[0m\u001b[0mdf_eval\u001b[0m\u001b[0;34m)\u001b[0m\u001b[0;34m\u001b[0m\u001b[0;34m\u001b[0m\u001b[0m\n\u001b[1;32m     32\u001b[0m \u001b[0;34m\u001b[0m\u001b[0m\n",
            "\u001b[0;31mNameError\u001b[0m: name 'convert_labels' is not defined"
          ]
        }
      ],
      "source": [
        "from weak_supervision.labeling_functions import get_lfs\n",
        "\n",
        "lfs_dict = get_lfs(path_keywords, path_annotations)\n",
        "lf_list = list(lfs_dict.values())\n",
        "\n",
        "from snorkel.labeling import PandasLFApplier\n",
        "from snorkel.labeling.model import LabelModel\n",
        "\n",
        "# 1. Load data\n",
        "raw_data, n_classes = load_dataset(n_train, n_eval)\n",
        "dataset = prepare_dataset(raw_data)\n",
        "\n",
        "# 2. Load labeling functions\n",
        "lfs_dict = get_lfs(path_keywords, path_annotations)\n",
        "lf_list = list(lfs_dict.values())\n",
        "\n",
        "# 3. Apply labeling functions\n",
        "applier = PandasLFApplier(lfs=lf_list)\n",
        "L_train = applier.apply(df=dataset[\"train\"])\n",
        "L_eval = applier.apply(df=dataset[\"eval\"])\n",
        "\n",
        "# 4. Train LabelModel\n",
        "label_model = LabelModel(cardinality=n_classes, verbose=True)\n",
        "label_model.fit(L_train=L_train, n_epochs=100, log_freq=10, seed=seed)\n",
        "\n",
        "# 5. Predict on eval set\n",
        "Y_eval = dataset[\"eval\"].label.values\n",
        "preds = label_model.predict(L=L_eval, tie_break_policy=tie_break_policy)"
      ]
    },
    {
      "cell_type": "markdown",
      "metadata": {
        "id": "p6Ag7_fZYv7y"
      },
      "source": [
        "# Transfer Learning"
      ]
    },
    {
      "cell_type": "code",
      "execution_count": 68,
      "metadata": {},
      "outputs": [],
      "source": [
        "import torch\n",
        "from transformers import AutoModelForSequenceClassification, AutoTokenizer\n",
        "\n",
        "tokenizer = AutoTokenizer.from_pretrained(\n",
        "    \"distilbert/distilbert-base-uncased-finetuned-sst-2-english\",\n",
        ")\n",
        "model = AutoModelForSequenceClassification.from_pretrained(\n",
        "    \"distilbert/distilbert-base-uncased-finetuned-sst-2-english\",\n",
        "    torch_dtype=torch.float16,\n",
        ")\n",
        "inputs = tokenizer(\"I love using Hugging Face Transformers!\", return_tensors=\"pt\")"
      ]
    },
    {
      "cell_type": "code",
      "execution_count": 69,
      "metadata": {},
      "outputs": [
        {
          "data": {
            "text/plain": [
              "{'input_ids': tensor([[  101,  1045,  2293,  2478, 17662,  2227, 19081,   999,   102]]), 'attention_mask': tensor([[1, 1, 1, 1, 1, 1, 1, 1, 1]])}"
            ]
          },
          "execution_count": 69,
          "metadata": {},
          "output_type": "execute_result"
        }
      ],
      "source": [
        "inputs"
      ]
    },
    {
      "cell_type": "code",
      "execution_count": 50,
      "metadata": {},
      "outputs": [],
      "source": [
        "from transformers import AutoTokenizer, AutoModelForSequenceClassification, TrainingArguments, Trainer\n",
        "from sklearn.metrics import f1_score\n",
        "from datasets import Dataset\n",
        "import numpy as np\n",
        "import torch\n",
        "import random\n",
        "\n",
        "\n",
        "def train_and_evaluate_transformer(df_train, df_test, n=-1, text_col='text', label_col='label', model_name='distilbert-base-uncased', random_seed=42):\n",
        "    torch.manual_seed(random_seed)\n",
        "    random.seed(random_seed)\n",
        "    np.random.seed(random_seed)\n",
        "\n",
        "    # Sample n examples if needed\n",
        "    if n > 0:\n",
        "        df_train = df_train.sample(n=n, random_state=random_seed).reset_index(drop=True)\n",
        "\n",
        "    # Load tokenizer and model\n",
        "    tokenizer = AutoTokenizer.from_pretrained(model_name)\n",
        "    model = AutoModelForSequenceClassification.from_pretrained(\n",
        "        \"distilbert-base-uncased-finetuned-sst-2-english\",\n",
        "        num_labels=2,\n",
        "        from_tf=True  # car le modèle est au format TensorFlow à la base\n",
        "    )\n",
        "\n",
        "    # Tokenization function\n",
        "    def preprocess_function(examples):\n",
        "        return tokenizer(examples[text_col], truncation=True, padding=True, max_length=512)\n",
        "\n",
        "    # Convert to HuggingFace Dataset\n",
        "    dataset_train = Dataset.from_pandas(df_train[[text_col, label_col]])\n",
        "    dataset_test = Dataset.from_pandas(df_test[[text_col, label_col]])\n",
        "\n",
        "    tokenized_train = dataset_train.map(preprocess_function, batched=True)\n",
        "    tokenized_test = dataset_test.map(preprocess_function, batched=True)\n",
        "\n",
        "    tokenized_train = tokenized_train.rename_column(label_col, \"labels\")\n",
        "    tokenized_test = tokenized_test.rename_column(label_col, \"labels\")\n",
        "\n",
        "    tokenized_train.set_format(\"torch\", columns=[\"input_ids\", \"attention_mask\", \"labels\"])\n",
        "    tokenized_test.set_format(\"torch\", columns=[\"input_ids\", \"attention_mask\", \"labels\"])\n",
        "\n",
        "    training_args = TrainingArguments(\n",
        "        output_dir=\"./results\",\n",
        "        per_device_train_batch_size=16,\n",
        "        per_device_eval_batch_size=16,\n",
        "        num_train_epochs=3,\n",
        "        logging_steps=10,\n",
        "        evaluation_strategy=\"epoch\",\n",
        "        save_strategy=\"no\",\n",
        "        learning_rate=2e-5,\n",
        "        seed=random_seed,\n",
        "        disable_tqdm=True\n",
        "    )\n",
        "\n",
        "    trainer = Trainer(\n",
        "        model=model,\n",
        "        args=training_args,\n",
        "        train_dataset=tokenized_train,\n",
        "        eval_dataset=tokenized_test,\n",
        "    )\n",
        "\n",
        "    trainer.train()\n",
        "\n",
        "    # Prédictions\n",
        "    preds = trainer.predict(tokenized_test)\n",
        "    pred_labels = np.argmax(preds.predictions, axis=1)\n",
        "    f1_val = f1_score(preds.label_ids, pred_labels, average='macro')\n",
        "\n",
        "    return model, f1_val\n"
      ]
    },
    {
      "cell_type": "code",
      "execution_count": 63,
      "metadata": {},
      "outputs": [],
      "source": [
        "model = AutoModelForSequenceClassification.from_pretrained(\n",
        "        \"distilbert-base-uncased-finetuned-sst-2-english\",\n",
        "        num_labels=2\n",
        "    )\n"
      ]
    },
    {
      "cell_type": "code",
      "execution_count": 64,
      "metadata": {},
      "outputs": [
        {
          "name": "stderr",
          "output_type": "stream",
          "text": [
            "Loading a TensorFlow model in PyTorch, requires both PyTorch and TensorFlow to be installed. Please see https://pytorch.org/ and https://www.tensorflow.org/install/ for installation instructions.\n"
          ]
        },
        {
          "ename": "ImportError",
          "evalue": "cannot import name 'TFGenerationMixin' from 'transformers.generation' (/Users/arnaudlamarque/Documents/Columbia_University/Machine Learning in practice/Cheap Learning/cheap_learning/.venv/lib/python3.11/site-packages/transformers/generation/__init__.py)",
          "output_type": "error",
          "traceback": [
            "\u001b[31m---------------------------------------------------------------------------\u001b[39m",
            "\u001b[31mImportError\u001b[39m                               Traceback (most recent call last)",
            "\u001b[36mCell\u001b[39m\u001b[36m \u001b[39m\u001b[32mIn[64]\u001b[39m\u001b[32m, line 1\u001b[39m\n\u001b[32m----> \u001b[39m\u001b[32m1\u001b[39m \u001b[43mplot_model_performance_by_budget\u001b[49m\u001b[43m(\u001b[49m\u001b[43mimdb_datasets\u001b[49m\u001b[43m,\u001b[49m\u001b[43mtrain_and_evaluate_transformer\u001b[49m\u001b[43m)\u001b[49m\n",
            "\u001b[36mCell\u001b[39m\u001b[36m \u001b[39m\u001b[32mIn[40]\u001b[39m\u001b[32m, line 15\u001b[39m, in \u001b[36mplot_model_performance_by_budget\u001b[39m\u001b[34m(datasets_dict, model_fn, model_name, labelling_budgets, colors)\u001b[39m\n\u001b[32m     11\u001b[39m f1_score_UnBalanced = []\n\u001b[32m     13\u001b[39m \u001b[38;5;28;01mfor\u001b[39;00m budget \u001b[38;5;129;01min\u001b[39;00m labelling_budgets:\n\u001b[32m     14\u001b[39m     \u001b[38;5;66;03m# (a) Balanced train + balanced test\u001b[39;00m\n\u001b[32m---> \u001b[39m\u001b[32m15\u001b[39m     _, f1 = \u001b[43mmodel_fn\u001b[49m\u001b[43m(\u001b[49m\u001b[43mdatasets_dict\u001b[49m\u001b[43m[\u001b[49m\u001b[33;43m\"\u001b[39;49m\u001b[33;43mtrain_balanced\u001b[39;49m\u001b[33;43m\"\u001b[39;49m\u001b[43m]\u001b[49m\u001b[43m,\u001b[49m\u001b[43m \u001b[49m\u001b[43mdatasets_dict\u001b[49m\u001b[43m[\u001b[49m\u001b[33;43m\"\u001b[39;49m\u001b[33;43mtest_balanced\u001b[39;49m\u001b[33;43m\"\u001b[39;49m\u001b[43m]\u001b[49m\u001b[43m,\u001b[49m\u001b[43m \u001b[49m\u001b[43mbudget\u001b[49m\u001b[43m)\u001b[49m\n\u001b[32m     16\u001b[39m     f1_score_Balanced.append(f1)\n\u001b[32m     18\u001b[39m     \u001b[38;5;66;03m# (b) Balanced train + unbalanced test\u001b[39;00m\n",
            "\u001b[36mCell\u001b[39m\u001b[36m \u001b[39m\u001b[32mIn[50]\u001b[39m\u001b[32m, line 20\u001b[39m, in \u001b[36mtrain_and_evaluate_transformer\u001b[39m\u001b[34m(df_train, df_test, n, text_col, label_col, model_name, random_seed)\u001b[39m\n\u001b[32m     18\u001b[39m \u001b[38;5;66;03m# Load tokenizer and model\u001b[39;00m\n\u001b[32m     19\u001b[39m tokenizer = AutoTokenizer.from_pretrained(model_name)\n\u001b[32m---> \u001b[39m\u001b[32m20\u001b[39m model = \u001b[43mAutoModelForSequenceClassification\u001b[49m\u001b[43m.\u001b[49m\u001b[43mfrom_pretrained\u001b[49m\u001b[43m(\u001b[49m\n\u001b[32m     21\u001b[39m \u001b[43m    \u001b[49m\u001b[33;43m\"\u001b[39;49m\u001b[33;43mdistilbert-base-uncased-finetuned-sst-2-english\u001b[39;49m\u001b[33;43m\"\u001b[39;49m\u001b[43m,\u001b[49m\n\u001b[32m     22\u001b[39m \u001b[43m    \u001b[49m\u001b[43mnum_labels\u001b[49m\u001b[43m=\u001b[49m\u001b[32;43m2\u001b[39;49m\u001b[43m,\u001b[49m\n\u001b[32m     23\u001b[39m \u001b[43m    \u001b[49m\u001b[43mfrom_tf\u001b[49m\u001b[43m=\u001b[49m\u001b[38;5;28;43;01mTrue\u001b[39;49;00m\u001b[43m  \u001b[49m\u001b[38;5;66;43;03m# car le modèle est au format TensorFlow à la base\u001b[39;49;00m\n\u001b[32m     24\u001b[39m \u001b[43m\u001b[49m\u001b[43m)\u001b[49m\n\u001b[32m     26\u001b[39m \u001b[38;5;66;03m# Tokenization function\u001b[39;00m\n\u001b[32m     27\u001b[39m \u001b[38;5;28;01mdef\u001b[39;00m\u001b[38;5;250m \u001b[39m\u001b[34mpreprocess_function\u001b[39m(examples):\n",
            "\u001b[36mFile \u001b[39m\u001b[32m~/Documents/Columbia_University/Machine Learning in practice/Cheap Learning/cheap_learning/.venv/lib/python3.11/site-packages/transformers/models/auto/auto_factory.py:571\u001b[39m, in \u001b[36m_BaseAutoModelClass.from_pretrained\u001b[39m\u001b[34m(cls, pretrained_model_name_or_path, *model_args, **kwargs)\u001b[39m\n\u001b[32m    569\u001b[39m     \u001b[38;5;28;01mif\u001b[39;00m model_class.config_class == config.sub_configs.get(\u001b[33m\"\u001b[39m\u001b[33mtext_config\u001b[39m\u001b[33m\"\u001b[39m, \u001b[38;5;28;01mNone\u001b[39;00m):\n\u001b[32m    570\u001b[39m         config = config.get_text_config()\n\u001b[32m--> \u001b[39m\u001b[32m571\u001b[39m     \u001b[38;5;28;01mreturn\u001b[39;00m \u001b[43mmodel_class\u001b[49m\u001b[43m.\u001b[49m\u001b[43mfrom_pretrained\u001b[49m\u001b[43m(\u001b[49m\n\u001b[32m    572\u001b[39m \u001b[43m        \u001b[49m\u001b[43mpretrained_model_name_or_path\u001b[49m\u001b[43m,\u001b[49m\u001b[43m \u001b[49m\u001b[43m*\u001b[49m\u001b[43mmodel_args\u001b[49m\u001b[43m,\u001b[49m\u001b[43m \u001b[49m\u001b[43mconfig\u001b[49m\u001b[43m=\u001b[49m\u001b[43mconfig\u001b[49m\u001b[43m,\u001b[49m\u001b[43m \u001b[49m\u001b[43m*\u001b[49m\u001b[43m*\u001b[49m\u001b[43mhub_kwargs\u001b[49m\u001b[43m,\u001b[49m\u001b[43m \u001b[49m\u001b[43m*\u001b[49m\u001b[43m*\u001b[49m\u001b[43mkwargs\u001b[49m\n\u001b[32m    573\u001b[39m \u001b[43m    \u001b[49m\u001b[43m)\u001b[49m\n\u001b[32m    574\u001b[39m \u001b[38;5;28;01mraise\u001b[39;00m \u001b[38;5;167;01mValueError\u001b[39;00m(\n\u001b[32m    575\u001b[39m     \u001b[33mf\u001b[39m\u001b[33m\"\u001b[39m\u001b[33mUnrecognized configuration class \u001b[39m\u001b[38;5;132;01m{\u001b[39;00mconfig.\u001b[34m__class__\u001b[39m\u001b[38;5;132;01m}\u001b[39;00m\u001b[33m for this kind of AutoModel: \u001b[39m\u001b[38;5;132;01m{\u001b[39;00m\u001b[38;5;28mcls\u001b[39m.\u001b[34m__name__\u001b[39m\u001b[38;5;132;01m}\u001b[39;00m\u001b[33m.\u001b[39m\u001b[38;5;130;01m\\n\u001b[39;00m\u001b[33m\"\u001b[39m\n\u001b[32m    576\u001b[39m     \u001b[33mf\u001b[39m\u001b[33m\"\u001b[39m\u001b[33mModel type should be one of \u001b[39m\u001b[38;5;132;01m{\u001b[39;00m\u001b[33m'\u001b[39m\u001b[33m, \u001b[39m\u001b[33m'\u001b[39m.join(c.\u001b[34m__name__\u001b[39m\u001b[38;5;250m \u001b[39m\u001b[38;5;28;01mfor\u001b[39;00m\u001b[38;5;250m \u001b[39mc\u001b[38;5;250m \u001b[39m\u001b[38;5;129;01min\u001b[39;00m\u001b[38;5;250m \u001b[39m\u001b[38;5;28mcls\u001b[39m._model_mapping.keys())\u001b[38;5;132;01m}\u001b[39;00m\u001b[33m.\u001b[39m\u001b[33m\"\u001b[39m\n\u001b[32m    577\u001b[39m )\n",
            "\u001b[36mFile \u001b[39m\u001b[32m~/Documents/Columbia_University/Machine Learning in practice/Cheap Learning/cheap_learning/.venv/lib/python3.11/site-packages/transformers/modeling_utils.py:279\u001b[39m, in \u001b[36mrestore_default_torch_dtype.<locals>._wrapper\u001b[39m\u001b[34m(*args, **kwargs)\u001b[39m\n\u001b[32m    277\u001b[39m old_dtype = torch.get_default_dtype()\n\u001b[32m    278\u001b[39m \u001b[38;5;28;01mtry\u001b[39;00m:\n\u001b[32m--> \u001b[39m\u001b[32m279\u001b[39m     \u001b[38;5;28;01mreturn\u001b[39;00m \u001b[43mfunc\u001b[49m\u001b[43m(\u001b[49m\u001b[43m*\u001b[49m\u001b[43margs\u001b[49m\u001b[43m,\u001b[49m\u001b[43m \u001b[49m\u001b[43m*\u001b[49m\u001b[43m*\u001b[49m\u001b[43mkwargs\u001b[49m\u001b[43m)\u001b[49m\n\u001b[32m    280\u001b[39m \u001b[38;5;28;01mfinally\u001b[39;00m:\n\u001b[32m    281\u001b[39m     torch.set_default_dtype(old_dtype)\n",
            "\u001b[36mFile \u001b[39m\u001b[32m~/Documents/Columbia_University/Machine Learning in practice/Cheap Learning/cheap_learning/.venv/lib/python3.11/site-packages/transformers/modeling_utils.py:4384\u001b[39m, in \u001b[36mPreTrainedModel.from_pretrained\u001b[39m\u001b[34m(cls, pretrained_model_name_or_path, config, cache_dir, ignore_mismatched_sizes, force_download, local_files_only, token, revision, use_safetensors, weights_only, *model_args, **kwargs)\u001b[39m\n\u001b[32m   4382\u001b[39m \u001b[38;5;66;03m# Finalize model weight initialization\u001b[39;00m\n\u001b[32m   4383\u001b[39m \u001b[38;5;28;01mif\u001b[39;00m from_tf:\n\u001b[32m-> \u001b[39m\u001b[32m4384\u001b[39m     model, loading_info = \u001b[38;5;28;43mcls\u001b[39;49m\u001b[43m.\u001b[49m\u001b[43m_load_from_tf\u001b[49m\u001b[43m(\u001b[49m\u001b[43mmodel\u001b[49m\u001b[43m,\u001b[49m\u001b[43m \u001b[49m\u001b[43mconfig\u001b[49m\u001b[43m,\u001b[49m\u001b[43m \u001b[49m\u001b[43mcheckpoint_files\u001b[49m\u001b[43m)\u001b[49m\n\u001b[32m   4385\u001b[39m \u001b[38;5;28;01melif\u001b[39;00m from_flax:\n\u001b[32m   4386\u001b[39m     model = \u001b[38;5;28mcls\u001b[39m._load_from_flax(model, checkpoint_files)\n",
            "\u001b[36mFile \u001b[39m\u001b[32m~/Documents/Columbia_University/Machine Learning in practice/Cheap Learning/cheap_learning/.venv/lib/python3.11/site-packages/transformers/modeling_utils.py:4971\u001b[39m, in \u001b[36mPreTrainedModel._load_from_tf\u001b[39m\u001b[34m(cls, model, config, checkpoint_files)\u001b[39m\n\u001b[32m   4968\u001b[39m \u001b[38;5;28;01mtry\u001b[39;00m:\n\u001b[32m   4969\u001b[39m     \u001b[38;5;28;01mfrom\u001b[39;00m\u001b[38;5;250m \u001b[39m\u001b[34;01m.\u001b[39;00m\u001b[34;01mmodeling_tf_pytorch_utils\u001b[39;00m\u001b[38;5;250m \u001b[39m\u001b[38;5;28;01mimport\u001b[39;00m load_tf2_checkpoint_in_pytorch_model\n\u001b[32m-> \u001b[39m\u001b[32m4971\u001b[39m     model, loading_info = \u001b[43mload_tf2_checkpoint_in_pytorch_model\u001b[49m\u001b[43m(\u001b[49m\n\u001b[32m   4972\u001b[39m \u001b[43m        \u001b[49m\u001b[43mmodel\u001b[49m\u001b[43m,\u001b[49m\u001b[43m \u001b[49m\u001b[43mcheckpoint_files\u001b[49m\u001b[43m[\u001b[49m\u001b[32;43m0\u001b[39;49m\u001b[43m]\u001b[49m\u001b[43m,\u001b[49m\u001b[43m \u001b[49m\u001b[43mallow_missing_keys\u001b[49m\u001b[43m=\u001b[49m\u001b[38;5;28;43;01mTrue\u001b[39;49;00m\u001b[43m,\u001b[49m\u001b[43m \u001b[49m\u001b[43moutput_loading_info\u001b[49m\u001b[43m=\u001b[49m\u001b[38;5;28;43;01mTrue\u001b[39;49;00m\n\u001b[32m   4973\u001b[39m \u001b[43m    \u001b[49m\u001b[43m)\u001b[49m\n\u001b[32m   4974\u001b[39m \u001b[38;5;28;01mexcept\u001b[39;00m \u001b[38;5;167;01mImportError\u001b[39;00m:\n\u001b[32m   4975\u001b[39m     logger.error(\n\u001b[32m   4976\u001b[39m         \u001b[33m\"\u001b[39m\u001b[33mLoading a TensorFlow model in PyTorch, requires both PyTorch and TensorFlow to be installed.\u001b[39m\u001b[33m\"\u001b[39m\n\u001b[32m   4977\u001b[39m         \u001b[33m\"\u001b[39m\u001b[33m Please see https://pytorch.org/ and https://www.tensorflow.org/install/ for installation\u001b[39m\u001b[33m\"\u001b[39m\n\u001b[32m   4978\u001b[39m         \u001b[33m\"\u001b[39m\u001b[33m instructions.\u001b[39m\u001b[33m\"\u001b[39m\n\u001b[32m   4979\u001b[39m     )\n",
            "\u001b[36mFile \u001b[39m\u001b[32m~/Documents/Columbia_University/Machine Learning in practice/Cheap Learning/cheap_learning/.venv/lib/python3.11/site-packages/transformers/modeling_tf_pytorch_utils.py:513\u001b[39m, in \u001b[36mload_tf2_checkpoint_in_pytorch_model\u001b[39m\u001b[34m(pt_model, tf_checkpoint_path, tf_inputs, allow_missing_keys, output_loading_info)\u001b[39m\n\u001b[32m    509\u001b[39m     \u001b[38;5;28;01mraise\u001b[39;00m\n\u001b[32m    511\u001b[39m \u001b[38;5;28;01mimport\u001b[39;00m\u001b[38;5;250m \u001b[39m\u001b[34;01mtransformers\u001b[39;00m\n\u001b[32m--> \u001b[39m\u001b[32m513\u001b[39m \u001b[38;5;28;01mfrom\u001b[39;00m\u001b[38;5;250m \u001b[39m\u001b[34;01m.\u001b[39;00m\u001b[34;01mmodeling_tf_utils\u001b[39;00m\u001b[38;5;250m \u001b[39m\u001b[38;5;28;01mimport\u001b[39;00m load_tf_weights\n\u001b[32m    515\u001b[39m logger.info(\u001b[33mf\u001b[39m\u001b[33m\"\u001b[39m\u001b[33mLoading TensorFlow weights from \u001b[39m\u001b[38;5;132;01m{\u001b[39;00mtf_checkpoint_path\u001b[38;5;132;01m}\u001b[39;00m\u001b[33m\"\u001b[39m)\n\u001b[32m    517\u001b[39m \u001b[38;5;66;03m# Instantiate and load the associated TF 2.0 model\u001b[39;00m\n",
            "\u001b[36mFile \u001b[39m\u001b[32m~/Documents/Columbia_University/Machine Learning in practice/Cheap Learning/cheap_learning/.venv/lib/python3.11/site-packages/transformers/modeling_tf_utils.py:41\u001b[39m\n\u001b[32m     39\u001b[39m \u001b[38;5;28;01mfrom\u001b[39;00m\u001b[38;5;250m \u001b[39m\u001b[34;01m.\u001b[39;00m\u001b[34;01mconfiguration_utils\u001b[39;00m\u001b[38;5;250m \u001b[39m\u001b[38;5;28;01mimport\u001b[39;00m PretrainedConfig\n\u001b[32m     40\u001b[39m \u001b[38;5;28;01mfrom\u001b[39;00m\u001b[38;5;250m \u001b[39m\u001b[34;01m.\u001b[39;00m\u001b[34;01mdynamic_module_utils\u001b[39;00m\u001b[38;5;250m \u001b[39m\u001b[38;5;28;01mimport\u001b[39;00m custom_object_save\n\u001b[32m---> \u001b[39m\u001b[32m41\u001b[39m \u001b[38;5;28;01mfrom\u001b[39;00m\u001b[38;5;250m \u001b[39m\u001b[34;01m.\u001b[39;00m\u001b[34;01mgeneration\u001b[39;00m\u001b[38;5;250m \u001b[39m\u001b[38;5;28;01mimport\u001b[39;00m GenerationConfig, TFGenerationMixin\n\u001b[32m     42\u001b[39m \u001b[38;5;28;01mfrom\u001b[39;00m\u001b[38;5;250m \u001b[39m\u001b[34;01m.\u001b[39;00m\u001b[34;01mtf_utils\u001b[39;00m\u001b[38;5;250m \u001b[39m\u001b[38;5;28;01mimport\u001b[39;00m (\n\u001b[32m     43\u001b[39m     convert_batch_encoding,\n\u001b[32m     44\u001b[39m     expand_1d,\n\u001b[32m   (...)\u001b[39m\u001b[32m     47\u001b[39m     shape_list,\n\u001b[32m     48\u001b[39m )\n\u001b[32m     49\u001b[39m \u001b[38;5;28;01mfrom\u001b[39;00m\u001b[38;5;250m \u001b[39m\u001b[34;01m.\u001b[39;00m\u001b[34;01mutils\u001b[39;00m\u001b[38;5;250m \u001b[39m\u001b[38;5;28;01mimport\u001b[39;00m (\n\u001b[32m     50\u001b[39m     SAFE_WEIGHTS_INDEX_NAME,\n\u001b[32m     51\u001b[39m     SAFE_WEIGHTS_NAME,\n\u001b[32m   (...)\u001b[39m\u001b[32m     69\u001b[39m     working_or_temp_dir,\n\u001b[32m     70\u001b[39m )\n",
            "\u001b[31mImportError\u001b[39m: cannot import name 'TFGenerationMixin' from 'transformers.generation' (/Users/arnaudlamarque/Documents/Columbia_University/Machine Learning in practice/Cheap Learning/cheap_learning/.venv/lib/python3.11/site-packages/transformers/generation/__init__.py)"
          ]
        }
      ],
      "source": [
        "plot_model_performance_by_budget(imdb_datasets,train_and_evaluate_transformer)"
      ]
    },
    {
      "cell_type": "code",
      "execution_count": null,
      "metadata": {
        "id": "gXIUm_YSY4uT"
      },
      "outputs": [
        {
          "ename": "ImportError",
          "evalue": "cannot import name 'DistilBertTokenizerFast' from 'transformers' (unknown location)",
          "output_type": "error",
          "traceback": [
            "\u001b[0;31m---------------------------------------------------------------------------\u001b[0m",
            "\u001b[0;31mImportError\u001b[0m                               Traceback (most recent call last)",
            "Cell \u001b[0;32mIn[103], line 1\u001b[0m\n\u001b[0;32m----> 1\u001b[0m \u001b[38;5;28;01mfrom\u001b[39;00m \u001b[38;5;21;01mtransformers\u001b[39;00m \u001b[38;5;28;01mimport\u001b[39;00m DistilBertTokenizerFast, DistilBertForSequenceClassification, Trainer, TrainingArguments\n\u001b[1;32m      2\u001b[0m \u001b[38;5;28;01mfrom\u001b[39;00m \u001b[38;5;21;01mdatasets\u001b[39;00m \u001b[38;5;28;01mimport\u001b[39;00m Dataset\n\u001b[1;32m      3\u001b[0m \u001b[38;5;28;01mimport\u001b[39;00m \u001b[38;5;21;01mpandas\u001b[39;00m \u001b[38;5;28;01mas\u001b[39;00m \u001b[38;5;21;01mpd\u001b[39;00m\n",
            "\u001b[0;31mImportError\u001b[0m: cannot import name 'DistilBertTokenizerFast' from 'transformers' (unknown location)"
          ]
        }
      ],
      "source": [
        "from transformers import DistilBertTokenizerFast, DistilBertForSequenceClassification, Trainer, TrainingArguments\n",
        "from datasets import Dataset\n",
        "import pandas as pd\n",
        "\n",
        "# 1. Charger ton dataset IMDB\n",
        "# Supposons que tu as déjà un DataFrame df_train et df_test avec colonnes 'text' et 'label'\n",
        "\n",
        "# 2. Convertir en HuggingFace Dataset\n",
        "train_dataset = Dataset.from_pandas(df_train)\n",
        "test_dataset = Dataset.from_pandas(df_test)\n",
        "\n",
        "# 3. Charger le tokenizer DistilBERT\n",
        "tokenizer = DistilBertTokenizerFast.from_pretrained(\"distilbert-base-uncased\")\n",
        "\n",
        "# 4. Tokenizer les exemples\n",
        "\n",
        "def preprocess_function(examples):\n",
        "    return tokenizer(examples[\"text\"], padding=\"max_length\", truncation=True)\n",
        "\n",
        "train_dataset = train_dataset.map(preprocess_function, batched=True)\n",
        "test_dataset = test_dataset.map(preprocess_function, batched=True)\n",
        "\n",
        "# 5. Charger le modèle pour la classification binaire\n",
        "model = DistilBertForSequenceClassification.from_pretrained(\"distilbert-base-uncased\", num_labels=2)\n",
        "\n",
        "# 6. Arguments d'entraînement\n",
        "training_args = TrainingArguments(\n",
        "    output_dir=\"./results\",\n",
        "    evaluation_strategy=\"epoch\",\n",
        "    save_strategy=\"epoch\",\n",
        "    logging_strategy=\"epoch\",\n",
        "    per_device_train_batch_size=16,\n",
        "    per_device_eval_batch_size=16,\n",
        "    num_train_epochs=3,\n",
        "    weight_decay=0.01,\n",
        "    logging_dir=\"./logs\",\n",
        "    load_best_model_at_end=True,\n",
        ")\n",
        "\n",
        "# 7. Définir le trainer\n",
        "trainer = Trainer(\n",
        "    model=model,\n",
        "    args=training_args,\n",
        "    train_dataset=train_dataset,\n",
        "    eval_dataset=test_dataset,\n",
        ")\n",
        "\n",
        "# 8. Entraînement\n",
        "trainer.train()\n",
        "\n",
        "# 9. Évaluation finale\n",
        "metrics = trainer.evaluate()\n",
        "print(metrics)\n"
      ]
    },
    {
      "cell_type": "markdown",
      "metadata": {
        "id": "rtUKmpYyY5Dp"
      },
      "source": [
        "# Prompt Engineering"
      ]
    },
    {
      "cell_type": "code",
      "execution_count": null,
      "metadata": {
        "id": "1CioFke6Y9bE"
      },
      "outputs": [],
      "source": []
    }
  ],
  "metadata": {
    "colab": {
      "provenance": []
    },
    "kernelspec": {
      "display_name": "Python 3",
      "language": "python",
      "name": "python3"
    },
    "language_info": {
      "codemirror_mode": {
        "name": "ipython",
        "version": 3
      },
      "file_extension": ".py",
      "mimetype": "text/x-python",
      "name": "python",
      "nbconvert_exporter": "python",
      "pygments_lexer": "ipython3",
      "version": "3.11.9"
    }
  },
  "nbformat": 4,
  "nbformat_minor": 0
}

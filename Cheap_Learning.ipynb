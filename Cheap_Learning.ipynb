{
  "cells": [
    {
      "cell_type": "markdown",
      "metadata": {
        "id": "YqXHB8N-boJc"
      },
      "source": [
        "<p align=\"center\"><b><font size=\"6\"> Macine Learning in practice</b></p>"
      ]
    },
    {
      "cell_type": "code",
      "execution_count": 114,
      "metadata": {},
      "outputs": [
        {
          "name": "stdout",
          "output_type": "stream",
          "text": [
            "Requirement already satisfied: transformers in /Users/arnaudlamarque/anaconda3/lib/python3.11/site-packages (4.51.3)\n",
            "Requirement already satisfied: filelock in /Users/arnaudlamarque/anaconda3/lib/python3.11/site-packages (from transformers) (3.13.1)\n",
            "Requirement already satisfied: huggingface-hub<1.0,>=0.30.0 in /Users/arnaudlamarque/anaconda3/lib/python3.11/site-packages (from transformers) (0.30.2)\n",
            "Requirement already satisfied: numpy>=1.17 in /Users/arnaudlamarque/anaconda3/lib/python3.11/site-packages (from transformers) (1.26.4)\n",
            "Requirement already satisfied: packaging>=20.0 in /Users/arnaudlamarque/anaconda3/lib/python3.11/site-packages (from transformers) (24.2)\n",
            "Requirement already satisfied: pyyaml>=5.1 in /Users/arnaudlamarque/anaconda3/lib/python3.11/site-packages (from transformers) (6.0.2)\n",
            "Requirement already satisfied: regex!=2019.12.17 in /Users/arnaudlamarque/anaconda3/lib/python3.11/site-packages (from transformers) (2024.11.6)\n",
            "Requirement already satisfied: requests in /Users/arnaudlamarque/anaconda3/lib/python3.11/site-packages (from transformers) (2.32.3)\n",
            "Requirement already satisfied: tokenizers<0.22,>=0.21 in /Users/arnaudlamarque/anaconda3/lib/python3.11/site-packages (from transformers) (0.21.1)\n",
            "Requirement already satisfied: safetensors>=0.4.3 in /Users/arnaudlamarque/anaconda3/lib/python3.11/site-packages (from transformers) (0.5.3)\n",
            "Requirement already satisfied: tqdm>=4.27 in /Users/arnaudlamarque/anaconda3/lib/python3.11/site-packages (from transformers) (4.67.1)\n",
            "Requirement already satisfied: fsspec>=2023.5.0 in /Users/arnaudlamarque/anaconda3/lib/python3.11/site-packages (from huggingface-hub<1.0,>=0.30.0->transformers) (2024.10.0)\n",
            "Requirement already satisfied: typing-extensions>=3.7.4.3 in /Users/arnaudlamarque/anaconda3/lib/python3.11/site-packages (from huggingface-hub<1.0,>=0.30.0->transformers) (4.12.2)\n",
            "Requirement already satisfied: charset-normalizer<4,>=2 in /Users/arnaudlamarque/anaconda3/lib/python3.11/site-packages (from requests->transformers) (3.3.2)\n",
            "Requirement already satisfied: idna<4,>=2.5 in /Users/arnaudlamarque/anaconda3/lib/python3.11/site-packages (from requests->transformers) (3.7)\n",
            "Requirement already satisfied: urllib3<3,>=1.21.1 in /Users/arnaudlamarque/anaconda3/lib/python3.11/site-packages (from requests->transformers) (2.3.0)\n",
            "Requirement already satisfied: certifi>=2017.4.17 in /Users/arnaudlamarque/anaconda3/lib/python3.11/site-packages (from requests->transformers) (2025.1.31)\n",
            "Note: you may need to restart the kernel to use updated packages.\n"
          ]
        }
      ],
      "source": [
        "pip install transformers"
      ]
    },
    {
      "cell_type": "code",
      "execution_count": 5,
      "metadata": {},
      "outputs": [
        {
          "ename": "RuntimeError",
          "evalue": "Failed to import transformers.pipelines because of the following error (look up to see its traceback):\ndlopen(/Users/arnaudlamarque/anaconda3/lib/python3.11/site-packages/tensorflow-plugins/libmetal_plugin.dylib, 0x0006): Symbol not found: __ZN3tsl8internal10LogMessageC1EPKcii\n  Referenced from: <D2EF42E3-3A7F-39DD-9982-FB6BCDC2853C> /Users/arnaudlamarque/anaconda3/lib/python3.11/site-packages/tensorflow-plugins/libmetal_plugin.dylib\n  Expected in:     <2814A58E-D752-317B-8040-131217E2F9AA> /Users/arnaudlamarque/anaconda3/lib/python3.11/site-packages/tensorflow/python/_pywrap_tensorflow_internal.so",
          "output_type": "error",
          "traceback": [
            "\u001b[0;31m---------------------------------------------------------------------------\u001b[0m",
            "\u001b[0;31mNotFoundError\u001b[0m                             Traceback (most recent call last)",
            "File \u001b[0;32m~/anaconda3/lib/python3.11/site-packages/transformers/utils/import_utils.py:1967\u001b[0m, in \u001b[0;36m_LazyModule._get_module\u001b[0;34m(self, module_name)\u001b[0m\n\u001b[1;32m   1966\u001b[0m \u001b[38;5;28;01mtry\u001b[39;00m:\n\u001b[0;32m-> 1967\u001b[0m     \u001b[38;5;28;01mreturn\u001b[39;00m importlib\u001b[38;5;241m.\u001b[39mimport_module(\u001b[38;5;124m\"\u001b[39m\u001b[38;5;124m.\u001b[39m\u001b[38;5;124m\"\u001b[39m \u001b[38;5;241m+\u001b[39m module_name, \u001b[38;5;28mself\u001b[39m\u001b[38;5;241m.\u001b[39m\u001b[38;5;18m__name__\u001b[39m)\n\u001b[1;32m   1968\u001b[0m \u001b[38;5;28;01mexcept\u001b[39;00m \u001b[38;5;167;01mException\u001b[39;00m \u001b[38;5;28;01mas\u001b[39;00m e:\n",
            "File \u001b[0;32m~/anaconda3/lib/python3.11/importlib/__init__.py:126\u001b[0m, in \u001b[0;36mimport_module\u001b[0;34m(name, package)\u001b[0m\n\u001b[1;32m    125\u001b[0m         level \u001b[38;5;241m+\u001b[39m\u001b[38;5;241m=\u001b[39m \u001b[38;5;241m1\u001b[39m\n\u001b[0;32m--> 126\u001b[0m \u001b[38;5;28;01mreturn\u001b[39;00m _bootstrap\u001b[38;5;241m.\u001b[39m_gcd_import(name[level:], package, level)\n",
            "File \u001b[0;32m<frozen importlib._bootstrap>:1204\u001b[0m, in \u001b[0;36m_gcd_import\u001b[0;34m(name, package, level)\u001b[0m\n",
            "File \u001b[0;32m<frozen importlib._bootstrap>:1176\u001b[0m, in \u001b[0;36m_find_and_load\u001b[0;34m(name, import_)\u001b[0m\n",
            "File \u001b[0;32m<frozen importlib._bootstrap>:1147\u001b[0m, in \u001b[0;36m_find_and_load_unlocked\u001b[0;34m(name, import_)\u001b[0m\n",
            "File \u001b[0;32m<frozen importlib._bootstrap>:690\u001b[0m, in \u001b[0;36m_load_unlocked\u001b[0;34m(spec)\u001b[0m\n",
            "File \u001b[0;32m<frozen importlib._bootstrap_external>:940\u001b[0m, in \u001b[0;36mexec_module\u001b[0;34m(self, module)\u001b[0m\n",
            "File \u001b[0;32m<frozen importlib._bootstrap>:241\u001b[0m, in \u001b[0;36m_call_with_frames_removed\u001b[0;34m(f, *args, **kwds)\u001b[0m\n",
            "File \u001b[0;32m~/anaconda3/lib/python3.11/site-packages/transformers/pipelines/__init__.py:26\u001b[0m\n\u001b[1;32m     25\u001b[0m \u001b[38;5;28;01mfrom\u001b[39;00m \u001b[38;5;21;01m.\u001b[39;00m\u001b[38;5;21;01m.\u001b[39;00m\u001b[38;5;21;01mfeature_extraction_utils\u001b[39;00m \u001b[38;5;28;01mimport\u001b[39;00m PreTrainedFeatureExtractor\n\u001b[0;32m---> 26\u001b[0m \u001b[38;5;28;01mfrom\u001b[39;00m \u001b[38;5;21;01m.\u001b[39;00m\u001b[38;5;21;01m.\u001b[39;00m\u001b[38;5;21;01mimage_processing_utils\u001b[39;00m \u001b[38;5;28;01mimport\u001b[39;00m BaseImageProcessor\n\u001b[1;32m     27\u001b[0m \u001b[38;5;28;01mfrom\u001b[39;00m \u001b[38;5;21;01m.\u001b[39;00m\u001b[38;5;21;01m.\u001b[39;00m\u001b[38;5;21;01mmodels\u001b[39;00m\u001b[38;5;21;01m.\u001b[39;00m\u001b[38;5;21;01mauto\u001b[39;00m\u001b[38;5;21;01m.\u001b[39;00m\u001b[38;5;21;01mconfiguration_auto\u001b[39;00m \u001b[38;5;28;01mimport\u001b[39;00m AutoConfig\n",
            "File \u001b[0;32m~/anaconda3/lib/python3.11/site-packages/transformers/image_processing_utils.py:22\u001b[0m\n\u001b[1;32m     21\u001b[0m \u001b[38;5;28;01mfrom\u001b[39;00m \u001b[38;5;21;01m.\u001b[39;00m\u001b[38;5;21;01mimage_processing_base\u001b[39;00m \u001b[38;5;28;01mimport\u001b[39;00m BatchFeature, ImageProcessingMixin\n\u001b[0;32m---> 22\u001b[0m \u001b[38;5;28;01mfrom\u001b[39;00m \u001b[38;5;21;01m.\u001b[39;00m\u001b[38;5;21;01mimage_transforms\u001b[39;00m \u001b[38;5;28;01mimport\u001b[39;00m center_crop, normalize, rescale\n\u001b[1;32m     23\u001b[0m \u001b[38;5;28;01mfrom\u001b[39;00m \u001b[38;5;21;01m.\u001b[39;00m\u001b[38;5;21;01mimage_utils\u001b[39;00m \u001b[38;5;28;01mimport\u001b[39;00m ChannelDimension, get_image_size\n",
            "File \u001b[0;32m~/anaconda3/lib/python3.11/site-packages/transformers/image_transforms.py:47\u001b[0m\n\u001b[1;32m     46\u001b[0m \u001b[38;5;28;01mif\u001b[39;00m is_tf_available():\n\u001b[0;32m---> 47\u001b[0m     \u001b[38;5;28;01mimport\u001b[39;00m \u001b[38;5;21;01mtensorflow\u001b[39;00m \u001b[38;5;28;01mas\u001b[39;00m \u001b[38;5;21;01mtf\u001b[39;00m\n\u001b[1;32m     49\u001b[0m \u001b[38;5;28;01mif\u001b[39;00m is_flax_available():\n",
            "File \u001b[0;32m~/anaconda3/lib/python3.11/site-packages/tensorflow/__init__.py:437\u001b[0m\n\u001b[1;32m    436\u001b[0m \u001b[38;5;28;01mif\u001b[39;00m _os\u001b[38;5;241m.\u001b[39mpath\u001b[38;5;241m.\u001b[39mexists(_plugin_dir):\n\u001b[0;32m--> 437\u001b[0m   _ll\u001b[38;5;241m.\u001b[39mload_library(_plugin_dir)\n\u001b[1;32m    438\u001b[0m   \u001b[38;5;66;03m# Load Pluggable Device Library\u001b[39;00m\n",
            "File \u001b[0;32m~/anaconda3/lib/python3.11/site-packages/tensorflow/python/framework/load_library.py:151\u001b[0m, in \u001b[0;36mload_library\u001b[0;34m(library_location)\u001b[0m\n\u001b[1;32m    150\u001b[0m   \u001b[38;5;28;01mfor\u001b[39;00m lib \u001b[38;5;129;01min\u001b[39;00m kernel_libraries:\n\u001b[0;32m--> 151\u001b[0m     py_tf\u001b[38;5;241m.\u001b[39mTF_LoadLibrary(lib)\n\u001b[1;32m    153\u001b[0m \u001b[38;5;28;01melse\u001b[39;00m:\n",
            "\u001b[0;31mNotFoundError\u001b[0m: dlopen(/Users/arnaudlamarque/anaconda3/lib/python3.11/site-packages/tensorflow-plugins/libmetal_plugin.dylib, 0x0006): Symbol not found: __ZN3tsl8internal10LogMessageC1EPKcii\n  Referenced from: <D2EF42E3-3A7F-39DD-9982-FB6BCDC2853C> /Users/arnaudlamarque/anaconda3/lib/python3.11/site-packages/tensorflow-plugins/libmetal_plugin.dylib\n  Expected in:     <2814A58E-D752-317B-8040-131217E2F9AA> /Users/arnaudlamarque/anaconda3/lib/python3.11/site-packages/tensorflow/python/_pywrap_tensorflow_internal.so",
            "\nThe above exception was the direct cause of the following exception:\n",
            "\u001b[0;31mRuntimeError\u001b[0m                              Traceback (most recent call last)",
            "Cell \u001b[0;32mIn[5], line 1\u001b[0m\n\u001b[0;32m----> 1\u001b[0m \u001b[38;5;28;01mfrom\u001b[39;00m \u001b[38;5;21;01mtransformers\u001b[39;00m \u001b[38;5;28;01mimport\u001b[39;00m pipeline\n",
            "File \u001b[0;32m<frozen importlib._bootstrap>:1229\u001b[0m, in \u001b[0;36m_handle_fromlist\u001b[0;34m(module, fromlist, import_, recursive)\u001b[0m\n",
            "File \u001b[0;32m~/anaconda3/lib/python3.11/site-packages/transformers/utils/import_utils.py:1955\u001b[0m, in \u001b[0;36m_LazyModule.__getattr__\u001b[0;34m(self, name)\u001b[0m\n\u001b[1;32m   1953\u001b[0m     value \u001b[38;5;241m=\u001b[39m Placeholder\n\u001b[1;32m   1954\u001b[0m \u001b[38;5;28;01melif\u001b[39;00m name \u001b[38;5;129;01min\u001b[39;00m \u001b[38;5;28mself\u001b[39m\u001b[38;5;241m.\u001b[39m_class_to_module\u001b[38;5;241m.\u001b[39mkeys():\n\u001b[0;32m-> 1955\u001b[0m     module \u001b[38;5;241m=\u001b[39m \u001b[38;5;28mself\u001b[39m\u001b[38;5;241m.\u001b[39m_get_module(\u001b[38;5;28mself\u001b[39m\u001b[38;5;241m.\u001b[39m_class_to_module[name])\n\u001b[1;32m   1956\u001b[0m     value \u001b[38;5;241m=\u001b[39m \u001b[38;5;28mgetattr\u001b[39m(module, name)\n\u001b[1;32m   1957\u001b[0m \u001b[38;5;28;01melif\u001b[39;00m name \u001b[38;5;129;01min\u001b[39;00m \u001b[38;5;28mself\u001b[39m\u001b[38;5;241m.\u001b[39m_modules:\n",
            "File \u001b[0;32m~/anaconda3/lib/python3.11/site-packages/transformers/utils/import_utils.py:1969\u001b[0m, in \u001b[0;36m_LazyModule._get_module\u001b[0;34m(self, module_name)\u001b[0m\n\u001b[1;32m   1967\u001b[0m     \u001b[38;5;28;01mreturn\u001b[39;00m importlib\u001b[38;5;241m.\u001b[39mimport_module(\u001b[38;5;124m\"\u001b[39m\u001b[38;5;124m.\u001b[39m\u001b[38;5;124m\"\u001b[39m \u001b[38;5;241m+\u001b[39m module_name, \u001b[38;5;28mself\u001b[39m\u001b[38;5;241m.\u001b[39m\u001b[38;5;18m__name__\u001b[39m)\n\u001b[1;32m   1968\u001b[0m \u001b[38;5;28;01mexcept\u001b[39;00m \u001b[38;5;167;01mException\u001b[39;00m \u001b[38;5;28;01mas\u001b[39;00m e:\n\u001b[0;32m-> 1969\u001b[0m     \u001b[38;5;28;01mraise\u001b[39;00m \u001b[38;5;167;01mRuntimeError\u001b[39;00m(\n\u001b[1;32m   1970\u001b[0m         \u001b[38;5;124mf\u001b[39m\u001b[38;5;124m\"\u001b[39m\u001b[38;5;124mFailed to import \u001b[39m\u001b[38;5;132;01m{\u001b[39;00m\u001b[38;5;28mself\u001b[39m\u001b[38;5;241m.\u001b[39m\u001b[38;5;18m__name__\u001b[39m\u001b[38;5;132;01m}\u001b[39;00m\u001b[38;5;124m.\u001b[39m\u001b[38;5;132;01m{\u001b[39;00mmodule_name\u001b[38;5;132;01m}\u001b[39;00m\u001b[38;5;124m because of the following error (look up to see its\u001b[39m\u001b[38;5;124m\"\u001b[39m\n\u001b[1;32m   1971\u001b[0m         \u001b[38;5;124mf\u001b[39m\u001b[38;5;124m\"\u001b[39m\u001b[38;5;124m traceback):\u001b[39m\u001b[38;5;130;01m\\n\u001b[39;00m\u001b[38;5;132;01m{\u001b[39;00me\u001b[38;5;132;01m}\u001b[39;00m\u001b[38;5;124m\"\u001b[39m\n\u001b[1;32m   1972\u001b[0m     ) \u001b[38;5;28;01mfrom\u001b[39;00m \u001b[38;5;21;01me\u001b[39;00m\n",
            "\u001b[0;31mRuntimeError\u001b[0m: Failed to import transformers.pipelines because of the following error (look up to see its traceback):\ndlopen(/Users/arnaudlamarque/anaconda3/lib/python3.11/site-packages/tensorflow-plugins/libmetal_plugin.dylib, 0x0006): Symbol not found: __ZN3tsl8internal10LogMessageC1EPKcii\n  Referenced from: <D2EF42E3-3A7F-39DD-9982-FB6BCDC2853C> /Users/arnaudlamarque/anaconda3/lib/python3.11/site-packages/tensorflow-plugins/libmetal_plugin.dylib\n  Expected in:     <2814A58E-D752-317B-8040-131217E2F9AA> /Users/arnaudlamarque/anaconda3/lib/python3.11/site-packages/tensorflow/python/_pywrap_tensorflow_internal.so"
          ]
        }
      ],
      "source": [
        "from transformers import pipeline"
      ]
    },
    {
      "cell_type": "code",
      "execution_count": null,
      "metadata": {},
      "outputs": [
        {
          "ename": "ImportError",
          "evalue": "cannot import name 'pipeline' from 'transformers' (unknown location)",
          "output_type": "error",
          "traceback": [
            "\u001b[0;31m---------------------------------------------------------------------------\u001b[0m",
            "\u001b[0;31mImportError\u001b[0m                               Traceback (most recent call last)",
            "Cell \u001b[0;32mIn[111], line 5\u001b[0m\n\u001b[1;32m      3\u001b[0m random_seed \u001b[38;5;241m=\u001b[39m \u001b[38;5;241m42\u001b[39m\n\u001b[1;32m      4\u001b[0m \u001b[38;5;28;01mimport\u001b[39;00m \u001b[38;5;21;01mmatplotlib\u001b[39;00m\u001b[38;5;21;01m.\u001b[39;00m\u001b[38;5;21;01mpyplot\u001b[39;00m \u001b[38;5;28;01mas\u001b[39;00m \u001b[38;5;21;01mplt\u001b[39;00m\n\u001b[0;32m----> 5\u001b[0m \u001b[38;5;28;01mfrom\u001b[39;00m \u001b[38;5;21;01mtransformers\u001b[39;00m \u001b[38;5;28;01mimport\u001b[39;00m pipeline\n",
            "\u001b[0;31mImportError\u001b[0m: cannot import name 'pipeline' from 'transformers' (unknown location)"
          ]
        }
      ],
      "source": [
        "from sklearn.model_selection import train_test_split\n",
        "import pandas as pd\n",
        "random_seed = 42\n",
        "import matplotlib.pyplot as plt\n"
      ]
    },
    {
      "cell_type": "markdown",
      "metadata": {
        "id": "dZgBX35yYDL-"
      },
      "source": [
        "# Data Processing"
      ]
    },
    {
      "cell_type": "code",
      "execution_count": 71,
      "metadata": {
        "colab": {
          "base_uri": "https://localhost:8080/",
          "height": 424
        },
        "id": "wK2x3CMpov7i",
        "outputId": "5b728e92-d0ba-448e-e766-9a38535e3804"
      },
      "outputs": [],
      "source": [
        "# IMDB Movie Reviews\n",
        "train_path = \"Raw Data/IMDB Movie Reviews/train_dataset.csv\"\n",
        "test_path = \"Raw Data/IMDB Movie Reviews/test_dataset.csv\"\n",
        "unsupervised_path = \"Raw Data/IMDB Movie Reviews/unsupervised_dataset.csv\"\n",
        "\n",
        "IMDB_train = pd.read_csv(train_path)\n",
        "IMDB_test = pd.read_csv(test_path)\n",
        "IMDB_unsupervised = pd.read_csv(unsupervised_path)\n",
        "\n",
        "\n",
        "#Wikipedia Comments\n",
        "wiki_comments_path = \"Raw Data/Wikipedia Personal Attacks/attack_annotated_comments.tsv\"\n",
        "wiki_annotations_path = \"Raw Data/Wikipedia Personal Attacks/attack_annotations.tsv\"\n",
        "\n",
        "wiki_comments = pd.read_csv(wiki_comments_path, sep='\\t')\n",
        "wiki_annotations = pd.read_csv(wiki_annotations_path, sep='\\t')\n"
      ]
    },
    {
      "cell_type": "code",
      "execution_count": 6,
      "metadata": {},
      "outputs": [
        {
          "data": {
            "text/html": [
              "<div>\n",
              "<style scoped>\n",
              "    .dataframe tbody tr th:only-of-type {\n",
              "        vertical-align: middle;\n",
              "    }\n",
              "\n",
              "    .dataframe tbody tr th {\n",
              "        vertical-align: top;\n",
              "    }\n",
              "\n",
              "    .dataframe thead th {\n",
              "        text-align: right;\n",
              "    }\n",
              "</style>\n",
              "<table border=\"1\" class=\"dataframe\">\n",
              "  <thead>\n",
              "    <tr style=\"text-align: right;\">\n",
              "      <th></th>\n",
              "      <th>text</th>\n",
              "      <th>label</th>\n",
              "    </tr>\n",
              "  </thead>\n",
              "  <tbody>\n",
              "    <tr>\n",
              "      <th>0</th>\n",
              "      <td>I rented I AM CURIOUS-YELLOW from my video sto...</td>\n",
              "      <td>0</td>\n",
              "    </tr>\n",
              "    <tr>\n",
              "      <th>1</th>\n",
              "      <td>\"I Am Curious: Yellow\" is a risible and preten...</td>\n",
              "      <td>0</td>\n",
              "    </tr>\n",
              "    <tr>\n",
              "      <th>2</th>\n",
              "      <td>If only to avoid making this type of film in t...</td>\n",
              "      <td>0</td>\n",
              "    </tr>\n",
              "    <tr>\n",
              "      <th>3</th>\n",
              "      <td>This film was probably inspired by Godard's Ma...</td>\n",
              "      <td>0</td>\n",
              "    </tr>\n",
              "    <tr>\n",
              "      <th>4</th>\n",
              "      <td>Oh, brother...after hearing about this ridicul...</td>\n",
              "      <td>0</td>\n",
              "    </tr>\n",
              "    <tr>\n",
              "      <th>...</th>\n",
              "      <td>...</td>\n",
              "      <td>...</td>\n",
              "    </tr>\n",
              "    <tr>\n",
              "      <th>24995</th>\n",
              "      <td>A hit at the time but now better categorised a...</td>\n",
              "      <td>1</td>\n",
              "    </tr>\n",
              "    <tr>\n",
              "      <th>24996</th>\n",
              "      <td>I love this movie like no other. Another time ...</td>\n",
              "      <td>1</td>\n",
              "    </tr>\n",
              "    <tr>\n",
              "      <th>24997</th>\n",
              "      <td>This film and it's sequel Barry Mckenzie holds...</td>\n",
              "      <td>1</td>\n",
              "    </tr>\n",
              "    <tr>\n",
              "      <th>24998</th>\n",
              "      <td>'The Adventures Of Barry McKenzie' started lif...</td>\n",
              "      <td>1</td>\n",
              "    </tr>\n",
              "    <tr>\n",
              "      <th>24999</th>\n",
              "      <td>The story centers around Barry McKenzie who mu...</td>\n",
              "      <td>1</td>\n",
              "    </tr>\n",
              "  </tbody>\n",
              "</table>\n",
              "<p>25000 rows × 2 columns</p>\n",
              "</div>"
            ],
            "text/plain": [
              "                                                    text  label\n",
              "0      I rented I AM CURIOUS-YELLOW from my video sto...      0\n",
              "1      \"I Am Curious: Yellow\" is a risible and preten...      0\n",
              "2      If only to avoid making this type of film in t...      0\n",
              "3      This film was probably inspired by Godard's Ma...      0\n",
              "4      Oh, brother...after hearing about this ridicul...      0\n",
              "...                                                  ...    ...\n",
              "24995  A hit at the time but now better categorised a...      1\n",
              "24996  I love this movie like no other. Another time ...      1\n",
              "24997  This film and it's sequel Barry Mckenzie holds...      1\n",
              "24998  'The Adventures Of Barry McKenzie' started lif...      1\n",
              "24999  The story centers around Barry McKenzie who mu...      1\n",
              "\n",
              "[25000 rows x 2 columns]"
            ]
          },
          "execution_count": 6,
          "metadata": {},
          "output_type": "execute_result"
        }
      ],
      "source": [
        "IMDB_train"
      ]
    },
    {
      "cell_type": "code",
      "execution_count": 72,
      "metadata": {},
      "outputs": [
        {
          "data": {
            "text/plain": [
              "25000"
            ]
          },
          "execution_count": 72,
          "metadata": {},
          "output_type": "execute_result"
        }
      ],
      "source": [
        "len(IMDB_test)"
      ]
    },
    {
      "cell_type": "code",
      "execution_count": 43,
      "metadata": {},
      "outputs": [
        {
          "data": {
            "text/html": [
              "<div>\n",
              "<style scoped>\n",
              "    .dataframe tbody tr th:only-of-type {\n",
              "        vertical-align: middle;\n",
              "    }\n",
              "\n",
              "    .dataframe tbody tr th {\n",
              "        vertical-align: top;\n",
              "    }\n",
              "\n",
              "    .dataframe thead th {\n",
              "        text-align: right;\n",
              "    }\n",
              "</style>\n",
              "<table border=\"1\" class=\"dataframe\">\n",
              "  <thead>\n",
              "    <tr style=\"text-align: right;\">\n",
              "      <th></th>\n",
              "      <th>rev_id</th>\n",
              "      <th>comment</th>\n",
              "      <th>year</th>\n",
              "      <th>logged_in</th>\n",
              "      <th>ns</th>\n",
              "      <th>sample</th>\n",
              "      <th>split</th>\n",
              "    </tr>\n",
              "  </thead>\n",
              "  <tbody>\n",
              "    <tr>\n",
              "      <th>0</th>\n",
              "      <td>37675</td>\n",
              "      <td>`-NEWLINE_TOKENThis is not ``creative``.  Thos...</td>\n",
              "      <td>2002</td>\n",
              "      <td>False</td>\n",
              "      <td>article</td>\n",
              "      <td>random</td>\n",
              "      <td>train</td>\n",
              "    </tr>\n",
              "    <tr>\n",
              "      <th>1</th>\n",
              "      <td>44816</td>\n",
              "      <td>`NEWLINE_TOKENNEWLINE_TOKEN:: the term ``stand...</td>\n",
              "      <td>2002</td>\n",
              "      <td>False</td>\n",
              "      <td>article</td>\n",
              "      <td>random</td>\n",
              "      <td>train</td>\n",
              "    </tr>\n",
              "    <tr>\n",
              "      <th>2</th>\n",
              "      <td>49851</td>\n",
              "      <td>NEWLINE_TOKENNEWLINE_TOKENTrue or false, the s...</td>\n",
              "      <td>2002</td>\n",
              "      <td>False</td>\n",
              "      <td>article</td>\n",
              "      <td>random</td>\n",
              "      <td>train</td>\n",
              "    </tr>\n",
              "    <tr>\n",
              "      <th>3</th>\n",
              "      <td>89320</td>\n",
              "      <td>Next, maybe you could work on being less cond...</td>\n",
              "      <td>2002</td>\n",
              "      <td>True</td>\n",
              "      <td>article</td>\n",
              "      <td>random</td>\n",
              "      <td>dev</td>\n",
              "    </tr>\n",
              "    <tr>\n",
              "      <th>4</th>\n",
              "      <td>93890</td>\n",
              "      <td>This page will need disambiguation.</td>\n",
              "      <td>2002</td>\n",
              "      <td>True</td>\n",
              "      <td>article</td>\n",
              "      <td>random</td>\n",
              "      <td>train</td>\n",
              "    </tr>\n",
              "    <tr>\n",
              "      <th>...</th>\n",
              "      <td>...</td>\n",
              "      <td>...</td>\n",
              "      <td>...</td>\n",
              "      <td>...</td>\n",
              "      <td>...</td>\n",
              "      <td>...</td>\n",
              "      <td>...</td>\n",
              "    </tr>\n",
              "    <tr>\n",
              "      <th>115859</th>\n",
              "      <td>699848324</td>\n",
              "      <td>`NEWLINE_TOKENNEWLINE_TOKENNEWLINE_TOKENThese ...</td>\n",
              "      <td>2016</td>\n",
              "      <td>True</td>\n",
              "      <td>article</td>\n",
              "      <td>blocked</td>\n",
              "      <td>train</td>\n",
              "    </tr>\n",
              "    <tr>\n",
              "      <th>115860</th>\n",
              "      <td>699851288</td>\n",
              "      <td>NEWLINE_TOKENNEWLINE_TOKENThe Institute for Hi...</td>\n",
              "      <td>2016</td>\n",
              "      <td>True</td>\n",
              "      <td>article</td>\n",
              "      <td>blocked</td>\n",
              "      <td>test</td>\n",
              "    </tr>\n",
              "    <tr>\n",
              "      <th>115861</th>\n",
              "      <td>699857133</td>\n",
              "      <td>NEWLINE_TOKEN:The way you're trying to describ...</td>\n",
              "      <td>2016</td>\n",
              "      <td>True</td>\n",
              "      <td>article</td>\n",
              "      <td>blocked</td>\n",
              "      <td>train</td>\n",
              "    </tr>\n",
              "    <tr>\n",
              "      <th>115862</th>\n",
              "      <td>699891012</td>\n",
              "      <td>NEWLINE_TOKENNEWLINE_TOKEN== Warning ==NEWLINE...</td>\n",
              "      <td>2016</td>\n",
              "      <td>True</td>\n",
              "      <td>user</td>\n",
              "      <td>blocked</td>\n",
              "      <td>dev</td>\n",
              "    </tr>\n",
              "    <tr>\n",
              "      <th>115863</th>\n",
              "      <td>699897151</td>\n",
              "      <td>Alternate option===NEWLINE_TOKENIs there perha...</td>\n",
              "      <td>2016</td>\n",
              "      <td>True</td>\n",
              "      <td>article</td>\n",
              "      <td>blocked</td>\n",
              "      <td>train</td>\n",
              "    </tr>\n",
              "  </tbody>\n",
              "</table>\n",
              "<p>115864 rows × 7 columns</p>\n",
              "</div>"
            ],
            "text/plain": [
              "           rev_id                                            comment  year  \\\n",
              "0           37675  `-NEWLINE_TOKENThis is not ``creative``.  Thos...  2002   \n",
              "1           44816  `NEWLINE_TOKENNEWLINE_TOKEN:: the term ``stand...  2002   \n",
              "2           49851  NEWLINE_TOKENNEWLINE_TOKENTrue or false, the s...  2002   \n",
              "3           89320   Next, maybe you could work on being less cond...  2002   \n",
              "4           93890               This page will need disambiguation.   2002   \n",
              "...           ...                                                ...   ...   \n",
              "115859  699848324  `NEWLINE_TOKENNEWLINE_TOKENNEWLINE_TOKENThese ...  2016   \n",
              "115860  699851288  NEWLINE_TOKENNEWLINE_TOKENThe Institute for Hi...  2016   \n",
              "115861  699857133  NEWLINE_TOKEN:The way you're trying to describ...  2016   \n",
              "115862  699891012  NEWLINE_TOKENNEWLINE_TOKEN== Warning ==NEWLINE...  2016   \n",
              "115863  699897151  Alternate option===NEWLINE_TOKENIs there perha...  2016   \n",
              "\n",
              "        logged_in       ns   sample  split  \n",
              "0           False  article   random  train  \n",
              "1           False  article   random  train  \n",
              "2           False  article   random  train  \n",
              "3            True  article   random    dev  \n",
              "4            True  article   random  train  \n",
              "...           ...      ...      ...    ...  \n",
              "115859       True  article  blocked  train  \n",
              "115860       True  article  blocked   test  \n",
              "115861       True  article  blocked  train  \n",
              "115862       True     user  blocked    dev  \n",
              "115863       True  article  blocked  train  \n",
              "\n",
              "[115864 rows x 7 columns]"
            ]
          },
          "execution_count": 43,
          "metadata": {},
          "output_type": "execute_result"
        }
      ],
      "source": [
        "wiki_comments"
      ]
    },
    {
      "cell_type": "code",
      "execution_count": 86,
      "metadata": {},
      "outputs": [],
      "source": [
        "wiki_data = wiki_comments\n",
        "\n",
        "wiki_data[\"comment\"] = wiki_data[\"comment\"].str.replace(\"NEWLINE_TOKEN\", \"\")\n",
        "wiki_data = wiki_data.drop(columns=[\"ns\", \"sample\", \"year\",\"rev_id\"])\n",
        "wiki_data = wiki_data.rename(columns={\"logged_in\": \"label\"})\n",
        "wiki_data = wiki_data.rename(columns={\"comment\": \"text\"})\n",
        "wiki_data[\"label\"] = wiki_data[\"label\"].map({False: 0, True: 1})"
      ]
    },
    {
      "cell_type": "code",
      "execution_count": 87,
      "metadata": {},
      "outputs": [
        {
          "data": {
            "text/html": [
              "<div>\n",
              "<style scoped>\n",
              "    .dataframe tbody tr th:only-of-type {\n",
              "        vertical-align: middle;\n",
              "    }\n",
              "\n",
              "    .dataframe tbody tr th {\n",
              "        vertical-align: top;\n",
              "    }\n",
              "\n",
              "    .dataframe thead th {\n",
              "        text-align: right;\n",
              "    }\n",
              "</style>\n",
              "<table border=\"1\" class=\"dataframe\">\n",
              "  <thead>\n",
              "    <tr style=\"text-align: right;\">\n",
              "      <th></th>\n",
              "      <th>text</th>\n",
              "      <th>label</th>\n",
              "      <th>split</th>\n",
              "    </tr>\n",
              "  </thead>\n",
              "  <tbody>\n",
              "    <tr>\n",
              "      <th>0</th>\n",
              "      <td>`-This is not ``creative``.  Those are the dic...</td>\n",
              "      <td>0</td>\n",
              "      <td>train</td>\n",
              "    </tr>\n",
              "    <tr>\n",
              "      <th>1</th>\n",
              "      <td>`:: the term ``standard model`` is itself less...</td>\n",
              "      <td>0</td>\n",
              "      <td>train</td>\n",
              "    </tr>\n",
              "    <tr>\n",
              "      <th>2</th>\n",
              "      <td>True or false, the situation as of March 2002 ...</td>\n",
              "      <td>0</td>\n",
              "      <td>train</td>\n",
              "    </tr>\n",
              "    <tr>\n",
              "      <th>3</th>\n",
              "      <td>Next, maybe you could work on being less cond...</td>\n",
              "      <td>1</td>\n",
              "      <td>dev</td>\n",
              "    </tr>\n",
              "    <tr>\n",
              "      <th>4</th>\n",
              "      <td>This page will need disambiguation.</td>\n",
              "      <td>1</td>\n",
              "      <td>train</td>\n",
              "    </tr>\n",
              "    <tr>\n",
              "      <th>...</th>\n",
              "      <td>...</td>\n",
              "      <td>...</td>\n",
              "      <td>...</td>\n",
              "    </tr>\n",
              "    <tr>\n",
              "      <th>115859</th>\n",
              "      <td>`These sources don't exactly exude a sense of ...</td>\n",
              "      <td>1</td>\n",
              "      <td>train</td>\n",
              "    </tr>\n",
              "    <tr>\n",
              "      <th>115860</th>\n",
              "      <td>The Institute for Historical Review is a peer-...</td>\n",
              "      <td>1</td>\n",
              "      <td>test</td>\n",
              "    </tr>\n",
              "    <tr>\n",
              "      <th>115861</th>\n",
              "      <td>:The way you're trying to describe it in this ...</td>\n",
              "      <td>1</td>\n",
              "      <td>train</td>\n",
              "    </tr>\n",
              "    <tr>\n",
              "      <th>115862</th>\n",
              "      <td>== Warning ==There is clearly a protectionist ...</td>\n",
              "      <td>1</td>\n",
              "      <td>dev</td>\n",
              "    </tr>\n",
              "    <tr>\n",
              "      <th>115863</th>\n",
              "      <td>Alternate option===Is there perhaps enough new...</td>\n",
              "      <td>1</td>\n",
              "      <td>train</td>\n",
              "    </tr>\n",
              "  </tbody>\n",
              "</table>\n",
              "<p>115864 rows × 3 columns</p>\n",
              "</div>"
            ],
            "text/plain": [
              "                                                     text  label  split\n",
              "0       `-This is not ``creative``.  Those are the dic...      0  train\n",
              "1       `:: the term ``standard model`` is itself less...      0  train\n",
              "2       True or false, the situation as of March 2002 ...      0  train\n",
              "3        Next, maybe you could work on being less cond...      1    dev\n",
              "4                    This page will need disambiguation.       1  train\n",
              "...                                                   ...    ...    ...\n",
              "115859  `These sources don't exactly exude a sense of ...      1  train\n",
              "115860  The Institute for Historical Review is a peer-...      1   test\n",
              "115861  :The way you're trying to describe it in this ...      1  train\n",
              "115862  == Warning ==There is clearly a protectionist ...      1    dev\n",
              "115863  Alternate option===Is there perhaps enough new...      1  train\n",
              "\n",
              "[115864 rows x 3 columns]"
            ]
          },
          "execution_count": 87,
          "metadata": {},
          "output_type": "execute_result"
        }
      ],
      "source": [
        "wiki_data"
      ]
    },
    {
      "cell_type": "code",
      "execution_count": 88,
      "metadata": {},
      "outputs": [
        {
          "name": "stdout",
          "output_type": "stream",
          "text": [
            "label\n",
            "1    50846\n",
            "0    18680\n",
            "Name: count, dtype: int64\n",
            "label\n",
            "1    17262\n",
            "0     5916\n",
            "Name: count, dtype: int64\n",
            "label\n",
            "1    16810\n",
            "0     6350\n",
            "Name: count, dtype: int64\n"
          ]
        }
      ],
      "source": [
        "wiki_train = wiki_data[wiki_data['split'] == 'train']\n",
        "wiki_train = wiki_train.drop(columns=[\"split\"])\n",
        "wiki_train\n",
        "print(wiki_train['label'].value_counts())\n",
        "\n",
        "wiki_test = wiki_data[wiki_data['split'] == 'test']\n",
        "wiki_test = wiki_test.drop(columns=[\"split\"])\n",
        "print(wiki_test['label'].value_counts())\n",
        "\n",
        "wiki_dev = wiki_data[wiki_data['split'] == 'dev']\n",
        "wiki_dev = wiki_dev.drop(columns=[\"split\"])\n",
        "print(wiki_dev['label'].value_counts())"
      ]
    },
    {
      "cell_type": "markdown",
      "metadata": {},
      "source": [
        "### Unbalanced dataset for IMDB"
      ]
    },
    {
      "cell_type": "code",
      "execution_count": 67,
      "metadata": {},
      "outputs": [],
      "source": [
        "def unbalanced(df,p):\n",
        "    df_neg = df[df['label'] == 0]\n",
        "    df_pos = df[df['label'] == 1]\n",
        "    \n",
        "    n_pos = round(len(df_neg)*p/(1-p))\n",
        "    df_pos = df_pos.sample(n=n_pos)\n",
        "    df_unbalanced = pd.concat([df_neg, df_pos])\n",
        "\n",
        "    # Shuffle\n",
        "    df_unbalanced = df_unbalanced.sample(frac=1, random_state=42)\n",
        "    \n",
        "    print(df_unbalanced[\"label\"].value_counts(normalize=True))\n",
        "    print(len(df_unbalanced))\n",
        "    return df_unbalanced"
      ]
    },
    {
      "cell_type": "code",
      "execution_count": 73,
      "metadata": {},
      "outputs": [
        {
          "name": "stdout",
          "output_type": "stream",
          "text": [
            "label\n",
            "0    0.899993\n",
            "1    0.100007\n",
            "Name: proportion, dtype: float64\n",
            "13889\n",
            "label\n",
            "0    0.9\n",
            "1    0.1\n",
            "Name: proportion, dtype: float64\n",
            "6880\n",
            "label\n",
            "0    0.899986\n",
            "1    0.100014\n",
            "Name: proportion, dtype: float64\n",
            "7009\n"
          ]
        }
      ],
      "source": [
        "p=0.1\n",
        "\n",
        "IMDB_train_balanced = IMDB_train\n",
        "IMDB_train_unbalanced = unbalanced(IMDB_train, p)\n",
        "\n",
        "IMDB_test_2, IMDB_dev =train_test_split(IMDB_test, test_size=0.5, random_state=42)\n",
        "\n",
        "IMDB_test_balanced = IMDB_test_2\n",
        "IMDB_test_unbalanced = unbalanced(IMDB_test_2, p)\n",
        "\n",
        "IMDB_dev_balanced = IMDB_dev\n",
        "IMDB_dev_unbalanced = unbalanced(IMDB_dev, p)"
      ]
    },
    {
      "cell_type": "code",
      "execution_count": 80,
      "metadata": {},
      "outputs": [],
      "source": [
        "imdb_datasets = {\n",
        "    \"train_balanced\": IMDB_train_balanced,\n",
        "    \"train_unbalanced\": IMDB_train_unbalanced,\n",
        "    \"test_balanced\": IMDB_test_balanced,\n",
        "    \"test_unbalanced\": IMDB_test_unbalanced,\n",
        "    \"dev_balanced\": IMDB_dev_balanced,\n",
        "    \"dev_unbalanced\": IMDB_dev_unbalanced\n",
        "}"
      ]
    },
    {
      "cell_type": "markdown",
      "metadata": {},
      "source": [
        "### Balanced dataset for Wikipedia"
      ]
    },
    {
      "cell_type": "code",
      "execution_count": 89,
      "metadata": {},
      "outputs": [],
      "source": [
        "def balanced(df):\n",
        "    df_neg = df[df['label'] == 0]\n",
        "    df_pos = df[df['label'] == 1]\n",
        "    \n",
        "    n_pos = len(df_neg)\n",
        "    df_pos=df_pos.sample(n=n_pos)\n",
        "    df_balanced = pd.concat([df_neg, df_pos])\n",
        "    \n",
        "    # Shuffle\n",
        "    df_balanced = df_balanced.sample(frac=1, random_state=42)\n",
        "    \n",
        "    print(df_balanced[\"label\"].value_counts(normalize=True))\n",
        "    print(len(df_balanced))\n",
        "    return df_balanced"
      ]
    },
    {
      "cell_type": "code",
      "execution_count": 90,
      "metadata": {},
      "outputs": [
        {
          "name": "stdout",
          "output_type": "stream",
          "text": [
            "label\n",
            "1    0.5\n",
            "0    0.5\n",
            "Name: proportion, dtype: float64\n",
            "37360\n",
            "label\n",
            "1    0.5\n",
            "0    0.5\n",
            "Name: proportion, dtype: float64\n",
            "11832\n",
            "label\n",
            "1    0.5\n",
            "0    0.5\n",
            "Name: proportion, dtype: float64\n",
            "12700\n"
          ]
        }
      ],
      "source": [
        "wiki_train_unbalanced = wiki_train\n",
        "wiki_test_unbalanced = wiki_test\n",
        "wiki_dev_unbalanced = wiki_dev\n",
        "\n",
        "wiki_train_balanced = balanced(wiki_train_unbalanced)\n",
        "wiki_test_balanced = balanced(wiki_test_unbalanced)\n",
        "wiki_dev_balanced = balanced(wiki_dev_unbalanced)"
      ]
    },
    {
      "cell_type": "code",
      "execution_count": 91,
      "metadata": {},
      "outputs": [],
      "source": [
        "wiki_datasets = {\n",
        "    \"train_unbalanced\": wiki_train_unbalanced,\n",
        "    \"test_unbalanced\": wiki_test_unbalanced,\n",
        "    \"dev_unbalanced\": wiki_dev_unbalanced,\n",
        "    \"train_balanced\": wiki_train_balanced,\n",
        "    \"test_balanced\": wiki_test_balanced,\n",
        "    \"dev_balanced\": wiki_dev_balanced,\n",
        "}"
      ]
    },
    {
      "cell_type": "markdown",
      "metadata": {
        "id": "s4KtMM1ngpYx"
      },
      "source": [
        "# Naive Bayes"
      ]
    },
    {
      "cell_type": "code",
      "execution_count": 78,
      "metadata": {
        "id": "sf3XvHutgrLn"
      },
      "outputs": [],
      "source": [
        "import pandas as pd\n",
        "from sklearn.feature_extraction.text import TfidfVectorizer\n",
        "from sklearn.naive_bayes import MultinomialNB\n",
        "from sklearn.metrics import accuracy_score, classification_report\n",
        "from imblearn.over_sampling import RandomOverSampler\n",
        "from sklearn.metrics import f1_score\n",
        "\n",
        "def train_and_evaluate_nb(df_train, df_test,n=-1, text_col='text', label_col='label', random_seed=random_seed):\n",
        "\n",
        "    df_train = df_train.dropna(subset=[text_col])\n",
        "    df_test = df_test.dropna(subset=[text_col])\n",
        "    if n > 0:\n",
        "        df_train = df_train.sample(n=n, random_state=random_seed).reset_index(drop=True)\n",
        "    # Extraction des textes et labels\n",
        "    X_train_texts = df_train[text_col]\n",
        "    y_train = df_train[label_col]\n",
        "\n",
        "    X_test_texts = df_test[text_col]\n",
        "    y_test = df_test[label_col]\n",
        "\n",
        "    # Vectorisation du texte avec TF-IDF\n",
        "    vectorizer = TfidfVectorizer()\n",
        "    X_train = vectorizer.fit_transform(X_train_texts)\n",
        "    X_test = vectorizer.transform(X_test_texts)\n",
        "\n",
        "    # Entraînement du modèle Naive Bayes\n",
        "    model_nb = MultinomialNB()\n",
        "    model_nb.fit(X_train, y_train)\n",
        "\n",
        "    # Prédictions et évaluation\n",
        "    preds = model_nb.predict(X_test)\n",
        "    #print(\"=== Évaluation du modèle ===\")\n",
        "    #print(\"Accuracy:\", accuracy_score(y_test, preds))\n",
        "    #print(classification_report(y_test, preds))\n",
        "\n",
        "    f1_val = f1_score(y_test, preds, average='macro')\n",
        "\n",
        "    return model_nb, f1_val,\n",
        "\n"
      ]
    },
    {
      "cell_type": "code",
      "execution_count": 79,
      "metadata": {
        "colab": {
          "base_uri": "https://localhost:8080/"
        },
        "id": "toPI236Ru6Wf",
        "outputId": "62820671-7f16-46d1-9305-778fc68b9c15"
      },
      "outputs": [
        {
          "name": "stdout",
          "output_type": "stream",
          "text": [
            "=== Score F1 ===\n",
            "0.8289532297820281\n"
          ]
        }
      ],
      "source": [
        "model_nb, f1_scor = train_and_evaluate_nb(IMDB_train, IMDB_test)\n",
        "\n",
        "print(\"=== Score F1 ===\")\n",
        "print(f1_scor)"
      ]
    },
    {
      "cell_type": "code",
      "execution_count": 94,
      "metadata": {},
      "outputs": [],
      "source": [
        "def plot_model_performance_by_budget(\n",
        "    datasets_dict,\n",
        "    model_fn,\n",
        "    model_name=\"Naive Bayes\",\n",
        "    labelling_budgets=[16, 32, 64, 128, 256, 512, 1024],\n",
        "    colors=(\"blue\", \"red\", \"green\")\n",
        "):\n",
        "\n",
        "    f1_score_Balanced = []\n",
        "    f1_score_HalfBalanced = []\n",
        "    f1_score_UnBalanced = []\n",
        "\n",
        "    for budget in labelling_budgets:\n",
        "        # (a) Balanced train + balanced test\n",
        "        _, f1 = model_fn(datasets_dict[\"train_balanced\"], datasets_dict[\"test_balanced\"], budget)\n",
        "        f1_score_Balanced.append(f1)\n",
        "\n",
        "        # (b) Balanced train + unbalanced test\n",
        "        _, f1 = model_fn(datasets_dict[\"train_balanced\"], datasets_dict[\"test_unbalanced\"], budget)\n",
        "        f1_score_HalfBalanced.append(f1)\n",
        "\n",
        "        # (c) Unbalanced train + unbalanced test\n",
        "        _, f1 = model_fn(datasets_dict[\"train_unbalanced\"], datasets_dict[\"test_unbalanced\"], budget)\n",
        "        f1_score_UnBalanced.append(f1)\n",
        "\n",
        "    # --- Plotting ---\n",
        "    fig, axes = plt.subplots(1, 3, figsize=(15, 4), sharey=True)\n",
        "\n",
        "    axes[0].plot(labelling_budgets, f1_score_Balanced, marker='o', color=colors[0], label=model_name)\n",
        "    axes[0].set_title('(a) Balanced train and balanced test')\n",
        "    axes[0].set_xlabel('Labelling budget')\n",
        "    axes[0].set_ylabel('Macro F1 Score')\n",
        "    axes[0].set_ylim(0, 1.0)\n",
        "    axes[0].grid(True)\n",
        "    axes[0].legend()\n",
        "\n",
        "    axes[1].plot(labelling_budgets, f1_score_HalfBalanced, marker='o', color=colors[1], label=model_name)\n",
        "    axes[1].set_title('(b) Balanced train and unbalanced test')\n",
        "    axes[1].set_xlabel('Labelling budget')\n",
        "    axes[1].set_ylim(0, 1.0)\n",
        "    axes[1].grid(True)\n",
        "    axes[1].legend()\n",
        "\n",
        "    axes[2].plot(labelling_budgets, f1_score_UnBalanced, marker='o', color=colors[2], label=model_name)\n",
        "    axes[2].set_title('(c) Unbalanced train and unbalanced test')\n",
        "    axes[2].set_xlabel('Labelling budget')\n",
        "    axes[2].set_ylim(0, 1.0)\n",
        "    axes[2].grid(True)\n",
        "    axes[2].legend()\n",
        "\n",
        "    plt.tight_layout()\n",
        "    plt.show()"
      ]
    },
    {
      "cell_type": "code",
      "execution_count": 95,
      "metadata": {},
      "outputs": [
        {
          "data": {
            "image/png": "[encoded data removed]",
            "text/plain": [
              "<Figure size 1500x400 with 3 Axes>"
            ]
          },
          "metadata": {},
          "output_type": "display_data"
        }
      ],
      "source": [
        "plot_model_performance_by_budget(imdb_datasets,train_and_evaluate_nb)"
      ]
    },
    {
      "cell_type": "code",
      "execution_count": 96,
      "metadata": {},
      "outputs": [
        {
          "data": {
            "image/png": "[encoded data removed]",
            "text/plain": [
              "<Figure size 1500x400 with 3 Axes>"
            ]
          },
          "metadata": {},
          "output_type": "display_data"
        }
      ],
      "source": [
        "plot_model_performance_by_budget(wiki_datasets,train_and_evaluate_nb)"
      ]
    },
    {
      "cell_type": "markdown",
      "metadata": {
        "id": "r6YQyt0wYh5o"
      },
      "source": [
        "# Weak Supervision"
      ]
    },
    {
      "cell_type": "code",
      "execution_count": null,
      "metadata": {
        "colab": {
          "base_uri": "https://localhost:8080/",
          "height": 358
        },
        "id": "lDv0pmrFbXLj",
        "outputId": "255dd8ee-7f7e-42f9-cf0f-90a432e38044"
      },
      "outputs": [
        {
          "ename": "NameError",
          "evalue": "name 'convert_labels' is not defined",
          "output_type": "error",
          "traceback": [
            "\u001b[0;31m---------------------------------------------------------------------------\u001b[0m",
            "\u001b[0;31mNameError\u001b[0m                                 Traceback (most recent call last)",
            "\u001b[0;32m<ipython-input-27-1cf8c8a6305b>\u001b[0m in \u001b[0;36m<cell line: 0>\u001b[0;34m()\u001b[0m\n\u001b[1;32m     78\u001b[0m \u001b[0;31m# Remplacez path_keywords et path_annotations par les chemins correspondants.\u001b[0m\u001b[0;34m\u001b[0m\u001b[0;34m\u001b[0m\u001b[0m\n\u001b[1;32m     79\u001b[0m \u001b[0;34m\u001b[0m\u001b[0m\n\u001b[0;32m---> 80\u001b[0;31m results, label_model = run_weak_supervision_experiment(\n\u001b[0m\u001b[1;32m     81\u001b[0m     \u001b[0mdf_train\u001b[0m\u001b[0;34m=\u001b[0m\u001b[0mbinary_abuse_train\u001b[0m\u001b[0;34m,\u001b[0m\u001b[0;34m\u001b[0m\u001b[0;34m\u001b[0m\u001b[0m\n\u001b[1;32m     82\u001b[0m     \u001b[0mdf_eval\u001b[0m\u001b[0;34m=\u001b[0m\u001b[0mbinary_abuse_dev\u001b[0m\u001b[0;34m,\u001b[0m\u001b[0;34m\u001b[0m\u001b[0;34m\u001b[0m\u001b[0m\n",
            "\u001b[0;32m<ipython-input-27-1cf8c8a6305b>\u001b[0m in \u001b[0;36mrun_weak_supervision_experiment\u001b[0;34m(df_train, df_eval, n_train, text_col, label_col, path_keywords, path_annotations, seed, tie_break_policy)\u001b[0m\n\u001b[1;32m     28\u001b[0m     \"\"\"\n\u001b[1;32m     29\u001b[0m     \u001b[0;31m# Convertir les DataFrames dans le format standard (doit produire au moins 'text' et 'label')\u001b[0m\u001b[0;34m\u001b[0m\u001b[0;34m\u001b[0m\u001b[0m\n\u001b[0;32m---> 30\u001b[0;31m     \u001b[0mdf_train_conv\u001b[0m\u001b[0;34m,\u001b[0m \u001b[0mn_classes_train\u001b[0m \u001b[0;34m=\u001b[0m \u001b[0mconvert_labels\u001b[0m\u001b[0;34m(\u001b[0m\u001b[0mdf_train\u001b[0m\u001b[0;34m)\u001b[0m\u001b[0;34m\u001b[0m\u001b[0;34m\u001b[0m\u001b[0m\n\u001b[0m\u001b[1;32m     31\u001b[0m     \u001b[0mdf_eval_conv\u001b[0m\u001b[0;34m,\u001b[0m \u001b[0mn_classes_eval\u001b[0m \u001b[0;34m=\u001b[0m \u001b[0mconvert_labels\u001b[0m\u001b[0;34m(\u001b[0m\u001b[0mdf_eval\u001b[0m\u001b[0;34m)\u001b[0m\u001b[0;34m\u001b[0m\u001b[0;34m\u001b[0m\u001b[0m\n\u001b[1;32m     32\u001b[0m \u001b[0;34m\u001b[0m\u001b[0m\n",
            "\u001b[0;31mNameError\u001b[0m: name 'convert_labels' is not defined"
          ]
        }
      ],
      "source": [
        "def run_weak_supervision_experiment(df_train, df_eval, n_train=-1,\n",
        "                                      text_col='text', label_col='label',\n",
        "                                      path_keywords=\"\", path_annotations=\"\",\n",
        "                                      seed=random_seed, tie_break_policy='random'):\n",
        "    \"\"\"\n",
        "    Exécute la chaîne weak supervision (Snorkel) pour une tâche donnée.\n",
        "\n",
        "    Paramètres:\n",
        "      df_train         : DataFrame d'entraînement complet.\n",
        "      df_eval          : DataFrame d'évaluation complet.\n",
        "      n_train          : Labelling budget, c'est-à-dire le nombre d'exemples d'entraînement à utiliser.\n",
        "                         Si n_train > 0, le DataFrame d'entraînement sera réduit par un échantillonnage aléatoire.\n",
        "      text_col         : Nom de la colonne contenant le texte (par défaut 'text').\n",
        "      label_col        : Nom de la colonne contenant le label (par défaut 'label').\n",
        "      path_keywords    : Chemin vers le fichier CSV contenant les keywords.\n",
        "      path_annotations : Chemin vers le fichier d’annotations (table séparée, par exemple).\n",
        "      seed             : Graine aléatoire pour la reproductibilité.\n",
        "      tie_break_policy : Politique de résolution des égalités lors de la prédiction (par exemple, 'random' ou 'abstain').\n",
        "\n",
        "    Retourne:\n",
        "      results        : Un dictionnaire contenant le Macro F1 score, le rapport de classification, etc.\n",
        "      label_model    : Le LabelModel entraîné.\n",
        "\n",
        "    Remarque:\n",
        "      Le labelling budget (n_train) définit combien d'exemples annotés seront utilisés pour l'entraînement.\n",
        "      En variant ce nombre, on peut observer comment la performance du modèle évolue avec davantage\n",
        "      (ou moins) de données annotées.\n",
        "    \"\"\"\n",
        "    # Convertir les DataFrames dans le format standard (doit produire au moins 'text' et 'label')\n",
        "    df_train_conv, n_classes_train = convert_labels(df_train)\n",
        "    df_eval_conv, n_classes_eval = convert_labels(df_eval)\n",
        "\n",
        "    if n_classes_train != n_classes_eval:\n",
        "        print(\"Erreur: le nombre de classes diffère entre train et eval!\")\n",
        "        return None, None\n",
        "\n",
        "    # Appliquer le labelling budget si spécifié (n_train > 0)\n",
        "    if n_train > 0:\n",
        "        df_train_conv = df_train_conv.sample(n=n_train, random_state=seed).reset_index(drop=True)\n",
        "\n",
        "    # Récupérer les labelling functions via get_lfs (pour binary_abuse dans cet exemple)\n",
        "    lfs_dict = get_lfs(path_keywords, path_annotations)\n",
        "    lf_list = [lf for key, lf in lfs_dict.items()]\n",
        "\n",
        "    # Application des labelling functions sur le jeu d'entraînement\n",
        "    from snorkel.labeling import PandasLFApplier\n",
        "    applier = PandasLFApplier(lfs=lf_list)\n",
        "    L_train = applier.apply(df=df_train_conv)\n",
        "\n",
        "    # Entraîner le LabelModel\n",
        "    from snorkel.labeling.model.label_model import LabelModel\n",
        "    label_model = LabelModel(cardinality=n_classes_train, verbose=False)\n",
        "    label_model.fit(L_train=L_train, n_epochs=100, log_freq=10, seed=seed)\n",
        "\n",
        "    # Appliquer les labelling functions sur le jeu d'évaluation\n",
        "    L_eval = applier.apply(df=df_eval_conv)\n",
        "    Y_eval = df_eval_conv[label_col].values\n",
        "\n",
        "    # Prédiction avec la politique de tie break\n",
        "    preds = label_model.predict(L_eval, tie_break_policy=tie_break_policy)\n",
        "\n",
        "    # Calcul des métriques d'évaluation\n",
        "    from sklearn.metrics import f1_score, classification_report\n",
        "    f1_val = f1_score(Y_eval, preds, average='macro', zero_division=0)\n",
        "    report = classification_report(Y_eval, preds)\n",
        "\n",
        "    results = {\n",
        "        \"f1_score\": f1_val,\n",
        "        \"classification_report\": report,\n",
        "        \"predictions\": preds,\n",
        "        \"true_labels\": Y_eval,\n",
        "    }\n",
        "\n",
        "    return results, label_model\n",
        "\n",
        "# Exemple d'utilisation :\n",
        "# Supposons que vos DataFrames 'binary_abuse_train' et 'binary_abuse_dev' sont déjà chargés dans le notebook.\n",
        "# Remplacez path_keywords et path_annotations par les chemins correspondants.\n",
        "\n",
        "results, label_model = run_weak_supervision_experiment(\n",
        "    df_train=binary_abuse_train,\n",
        "    df_eval=binary_abuse_dev,\n",
        "    n_train=1024,  # Par exemple, utiliser 1024 exemples d'entraînement pour simuler le labelling budget.\n",
        "    text_col='text',\n",
        "    label_col='label',\n",
        "    path_keywords=\"data/binary_abuse/misc/keywords.csv\",\n",
        "    path_annotations=\"data/binary_abuse/raw_data/annotations.csv\",\n",
        "    seed=42,\n",
        "    tie_break_policy='random'\n",
        ")\n",
        "\n",
        "print(\"Macro F1 score (weak supervision):\", results[\"f1_score\"])\n",
        "print(\"\\nClassification Report:\\n\", results[\"classification_report\"])"
      ]
    },
    {
      "cell_type": "markdown",
      "metadata": {
        "id": "p6Ag7_fZYv7y"
      },
      "source": [
        "# Transfer Learning"
      ]
    },
    {
      "cell_type": "code",
      "execution_count": 107,
      "metadata": {},
      "outputs": [
        {
          "ename": "ImportError",
          "evalue": "cannot import name 'pipeline' from 'transformers' (unknown location)",
          "output_type": "error",
          "traceback": [
            "\u001b[0;31m---------------------------------------------------------------------------\u001b[0m",
            "\u001b[0;31mImportError\u001b[0m                               Traceback (most recent call last)",
            "Cell \u001b[0;32mIn[107], line 1\u001b[0m\n\u001b[0;32m----> 1\u001b[0m \u001b[38;5;28;01mfrom\u001b[39;00m \u001b[38;5;21;01mtransformers\u001b[39;00m \u001b[38;5;28;01mimport\u001b[39;00m pipeline\n\u001b[1;32m      2\u001b[0m \u001b[38;5;28;01mimport\u001b[39;00m \u001b[38;5;21;01mtorch\u001b[39;00m\n\u001b[1;32m      4\u001b[0m classifier \u001b[38;5;241m=\u001b[39m pipeline(\n\u001b[1;32m      5\u001b[0m     task\u001b[38;5;241m=\u001b[39m\u001b[38;5;124m\"\u001b[39m\u001b[38;5;124mtext-classification\u001b[39m\u001b[38;5;124m\"\u001b[39m,\n\u001b[1;32m      6\u001b[0m     model\u001b[38;5;241m=\u001b[39m\u001b[38;5;124m\"\u001b[39m\u001b[38;5;124mdistilbert-base-uncased-finetuned-sst-2-english\u001b[39m\u001b[38;5;124m\"\u001b[39m,\n\u001b[1;32m      7\u001b[0m     torch_dtype\u001b[38;5;241m=\u001b[39mtorch\u001b[38;5;241m.\u001b[39mfloat16,\n\u001b[1;32m      8\u001b[0m     device\u001b[38;5;241m=\u001b[39m\u001b[38;5;241m0\u001b[39m  \u001b[38;5;66;03m# ou -1 pour CPU\u001b[39;00m\n\u001b[1;32m      9\u001b[0m )\n",
            "\u001b[0;31mImportError\u001b[0m: cannot import name 'pipeline' from 'transformers' (unknown location)"
          ]
        }
      ],
      "source": [
        "from transformers import pipeline\n",
        "import torch\n",
        "\n",
        "classifier = pipeline(\n",
        "    task=\"text-classification\",\n",
        "    model=\"distilbert-base-uncased-finetuned-sst-2-english\",\n",
        "    torch_dtype=torch.float16,\n",
        "    device=0  # ou -1 pour CPU\n",
        ")"
      ]
    },
    {
      "cell_type": "code",
      "execution_count": 103,
      "metadata": {
        "id": "gXIUm_YSY4uT"
      },
      "outputs": [
        {
          "ename": "ImportError",
          "evalue": "cannot import name 'DistilBertTokenizerFast' from 'transformers' (unknown location)",
          "output_type": "error",
          "traceback": [
            "\u001b[0;31m---------------------------------------------------------------------------\u001b[0m",
            "\u001b[0;31mImportError\u001b[0m                               Traceback (most recent call last)",
            "Cell \u001b[0;32mIn[103], line 1\u001b[0m\n\u001b[0;32m----> 1\u001b[0m \u001b[38;5;28;01mfrom\u001b[39;00m \u001b[38;5;21;01mtransformers\u001b[39;00m \u001b[38;5;28;01mimport\u001b[39;00m DistilBertTokenizerFast, DistilBertForSequenceClassification, Trainer, TrainingArguments\n\u001b[1;32m      2\u001b[0m \u001b[38;5;28;01mfrom\u001b[39;00m \u001b[38;5;21;01mdatasets\u001b[39;00m \u001b[38;5;28;01mimport\u001b[39;00m Dataset\n\u001b[1;32m      3\u001b[0m \u001b[38;5;28;01mimport\u001b[39;00m \u001b[38;5;21;01mpandas\u001b[39;00m \u001b[38;5;28;01mas\u001b[39;00m \u001b[38;5;21;01mpd\u001b[39;00m\n",
            "\u001b[0;31mImportError\u001b[0m: cannot import name 'DistilBertTokenizerFast' from 'transformers' (unknown location)"
          ]
        }
      ],
      "source": [
        "from transformers import DistilBertTokenizerFast, DistilBertForSequenceClassification, Trainer, TrainingArguments\n",
        "from datasets import Dataset\n",
        "import pandas as pd\n",
        "\n",
        "# 1. Charger ton dataset IMDB\n",
        "# Supposons que tu as déjà un DataFrame df_train et df_test avec colonnes 'text' et 'label'\n",
        "\n",
        "# 2. Convertir en HuggingFace Dataset\n",
        "train_dataset = Dataset.from_pandas(df_train)\n",
        "test_dataset = Dataset.from_pandas(df_test)\n",
        "\n",
        "# 3. Charger le tokenizer DistilBERT\n",
        "tokenizer = DistilBertTokenizerFast.from_pretrained(\"distilbert-base-uncased\")\n",
        "\n",
        "# 4. Tokenizer les exemples\n",
        "\n",
        "def preprocess_function(examples):\n",
        "    return tokenizer(examples[\"text\"], padding=\"max_length\", truncation=True)\n",
        "\n",
        "train_dataset = train_dataset.map(preprocess_function, batched=True)\n",
        "test_dataset = test_dataset.map(preprocess_function, batched=True)\n",
        "\n",
        "# 5. Charger le modèle pour la classification binaire\n",
        "model = DistilBertForSequenceClassification.from_pretrained(\"distilbert-base-uncased\", num_labels=2)\n",
        "\n",
        "# 6. Arguments d'entraînement\n",
        "training_args = TrainingArguments(\n",
        "    output_dir=\"./results\",\n",
        "    evaluation_strategy=\"epoch\",\n",
        "    save_strategy=\"epoch\",\n",
        "    logging_strategy=\"epoch\",\n",
        "    per_device_train_batch_size=16,\n",
        "    per_device_eval_batch_size=16,\n",
        "    num_train_epochs=3,\n",
        "    weight_decay=0.01,\n",
        "    logging_dir=\"./logs\",\n",
        "    load_best_model_at_end=True,\n",
        ")\n",
        "\n",
        "# 7. Définir le trainer\n",
        "trainer = Trainer(\n",
        "    model=model,\n",
        "    args=training_args,\n",
        "    train_dataset=train_dataset,\n",
        "    eval_dataset=test_dataset,\n",
        ")\n",
        "\n",
        "# 8. Entraînement\n",
        "trainer.train()\n",
        "\n",
        "# 9. Évaluation finale\n",
        "metrics = trainer.evaluate()\n",
        "print(metrics)\n"
      ]
    },
    {
      "cell_type": "markdown",
      "metadata": {
        "id": "rtUKmpYyY5Dp"
      },
      "source": [
        "# Prompt Engineering"
      ]
    },
    {
      "cell_type": "code",
      "execution_count": null,
      "metadata": {
        "id": "1CioFke6Y9bE"
      },
      "outputs": [],
      "source": []
    }
  ],
  "metadata": {
    "colab": {
      "provenance": []
    },
    "kernelspec": {
      "display_name": "base",
      "language": "python",
      "name": "python3"
    },
    "language_info": {
      "codemirror_mode": {
        "name": "ipython",
        "version": 3
      },
      "file_extension": ".py",
      "mimetype": "text/x-python",
      "name": "python",
      "nbconvert_exporter": "python",
      "pygments_lexer": "ipython3",
      "version": "3.11.5"
    }
  },
  "nbformat": 4,
  "nbformat_minor": 0
}
